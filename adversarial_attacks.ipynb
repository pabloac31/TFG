{
  "nbformat": 4,
  "nbformat_minor": 0,
  "metadata": {
    "colab": {
      "name": "Untitled",
      "provenance": [],
      "collapsed_sections": [],
      "authorship_tag": "ABX9TyPE4gU22CvKtnjNF4+NqKNb",
      "include_colab_link": true
    },
    "kernelspec": {
      "name": "python3",
      "display_name": "Python 3"
    },
    "accelerator": "GPU"
  },
  "cells": [
    {
      "cell_type": "markdown",
      "metadata": {
        "id": "view-in-github",
        "colab_type": "text"
      },
      "source": [
        "<a href=\"https://colab.research.google.com/github/pabloac31/TFG/blob/master/adversarial_attacks.ipynb\" target=\"_parent\"><img src=\"https://colab.research.google.com/assets/colab-badge.svg\" alt=\"Open In Colab\"/></a>"
      ]
    },
    {
      "cell_type": "code",
      "metadata": {
        "id": "GDR3uMqmArFz",
        "colab_type": "code",
        "outputId": "53475da3-8542-4b83-e836-3e891820aef1",
        "colab": {
          "base_uri": "https://localhost:8080/",
          "height": 139
        }
      },
      "source": [
        "! git clone https://github.com/pabloac31/TFG.git\n",
        "%cd TFG"
      ],
      "execution_count": 1,
      "outputs": [
        {
          "output_type": "stream",
          "text": [
            "Cloning into 'TFG'...\n",
            "remote: Enumerating objects: 26, done.\u001b[K\n",
            "remote: Counting objects: 100% (26/26), done.\u001b[K\n",
            "remote: Compressing objects: 100% (22/22), done.\u001b[K\n",
            "remote: Total 67 (delta 13), reused 9 (delta 4), pack-reused 41\u001b[K\n",
            "Unpacking objects: 100% (67/67), done.\n",
            "/content/TFG\n"
          ],
          "name": "stdout"
        }
      ]
    },
    {
      "cell_type": "code",
      "metadata": {
        "id": "Lt4JZSIgsx13",
        "colab_type": "code",
        "outputId": "7809b229-9e41-4640-8310-f80ba3054287",
        "colab": {
          "base_uri": "https://localhost:8080/",
          "height": 34
        }
      },
      "source": [
        "%tensorflow_version 1.x"
      ],
      "execution_count": 2,
      "outputs": [
        {
          "output_type": "stream",
          "text": [
            "TensorFlow 1.x selected.\n"
          ],
          "name": "stdout"
        }
      ]
    },
    {
      "cell_type": "code",
      "metadata": {
        "id": "IhjJ-PVb2UR2",
        "colab_type": "code",
        "colab": {}
      },
      "source": [
        "import tensorflow as tf\n",
        "import torch\n",
        "\n",
        "import matplotlib.pyplot as plt\n",
        "import numpy as np\n",
        "import time\n",
        "import math\n",
        "\n",
        "from PIL import Image\n",
        "import torchvision.transforms.functional as TF\n",
        "\n",
        "from tqdm import tqdm as pbar\n",
        "\n",
        "# https://github.com/huyvnphan/PyTorch-CIFAR10\n",
        "from cifar10_models import *\n",
        "from utils_cifar10 import *\n",
        "from adversarial_methods import *"
      ],
      "execution_count": 0,
      "outputs": []
    },
    {
      "cell_type": "code",
      "metadata": {
        "id": "EBjmK4kwryF4",
        "colab_type": "code",
        "colab": {}
      },
      "source": [
        "iv3 = inception_v3(pretrained=True)"
      ],
      "execution_count": 0,
      "outputs": []
    },
    {
      "cell_type": "code",
      "metadata": {
        "id": "UXx79qNjU_A-",
        "colab_type": "code",
        "outputId": "8bc15b79-94ef-46c5-bc03-85a98d1e852a",
        "colab": {
          "base_uri": "https://localhost:8080/",
          "height": 34
        }
      },
      "source": [
        "# Define what device we are using\n",
        "use_cuda=True\n",
        "print(\"CUDA Available: \",torch.cuda.is_available())\n",
        "device = torch.device(\"cuda\" if (use_cuda and torch.cuda.is_available()) else \"cpu\")"
      ],
      "execution_count": 5,
      "outputs": [
        {
          "output_type": "stream",
          "text": [
            "CUDA Available:  True\n"
          ],
          "name": "stdout"
        }
      ]
    },
    {
      "cell_type": "code",
      "metadata": {
        "id": "ybd908TpfN06",
        "colab_type": "code",
        "outputId": "404fd3e2-a840-4e8c-f875-d1bc3411bcbc",
        "colab": {
          "base_uri": "https://localhost:8080/",
          "height": 34
        }
      },
      "source": [
        "test_loader = testloader('./data', 256)"
      ],
      "execution_count": 0,
      "outputs": [
        {
          "output_type": "stream",
          "text": [
            "Files already downloaded and verified\n"
          ],
          "name": "stdout"
        }
      ]
    },
    {
      "cell_type": "code",
      "metadata": {
        "id": "wixmMwIyZCf2",
        "colab_type": "code",
        "outputId": "5e3ccfb2-9529-4bb3-e3a2-084ddea77ebc",
        "colab": {
          "base_uri": "https://localhost:8080/",
          "height": 52
        }
      },
      "source": [
        "test_model(iv3, device, test_loader)"
      ],
      "execution_count": 0,
      "outputs": [
        {
          "output_type": "stream",
          "text": [
            "100%|██████████| 40/40 [00:14<00:00,  2.84it/s]\n"
          ],
          "name": "stderr"
        },
        {
          "output_type": "execute_result",
          "data": {
            "text/plain": [
              "0.9541"
            ]
          },
          "metadata": {
            "tags": []
          },
          "execution_count": 23
        }
      ]
    },
    {
      "cell_type": "code",
      "metadata": {
        "id": "__hBi2kQDxab",
        "colab_type": "code",
        "outputId": "eb254bc7-ae26-4459-ace5-bc6a976f6546",
        "colab": {
          "base_uri": "https://localhost:8080/",
          "height": 34
        }
      },
      "source": [
        "adv_loader = testloader('./data', 1)"
      ],
      "execution_count": 22,
      "outputs": [
        {
          "output_type": "stream",
          "text": [
            "Files already downloaded and verified\n"
          ],
          "name": "stdout"
        }
      ]
    },
    {
      "cell_type": "code",
      "metadata": {
        "id": "egodCxaWGieA",
        "colab_type": "code",
        "colab": {}
      },
      "source": [
        "def test_fgsm(img, epsilon):\n",
        "  \n",
        "  model = iv3.to(device).eval()\n",
        "  \n",
        "  image = Image.open(img)\n",
        "  x = TF.to_tensor(image)\n",
        "\n",
        "  for channel in range(3):\n",
        "    x[channel] = (x[channel] - mean[channel]) / std[channel]\n",
        "\n",
        "  x = x.unsqueeze_(0).to(device)\n",
        "\n",
        "  label = torch.tensor([1]).to(device)\n",
        "\n",
        "  x.requires_grad = True\n",
        "\n",
        "  y = model(x)\n",
        "  init_pred = y.max(1, keepdim=True)[1]\n",
        "  print(\"Original image prediction: \", init_pred.item())\n",
        "\n",
        "  if init_pred.item() != label.item():\n",
        "    print(\"Image misclassified...\")\n",
        "    return\n",
        "\n",
        "  # Calculate the loss\n",
        "  loss = F.nll_loss(y, label)\n",
        "\n",
        "  # Zero all existing gradients\n",
        "  model.zero_grad()\n",
        "\n",
        "  # Calculate gradients of model in backward pass\n",
        "  loss.backward()\n",
        "\n",
        "  # Collect datagrad\n",
        "  x_grad = x.grad.data\n",
        "\n",
        "  # Call FGSM attack\n",
        "  adv_x = fgsm(x, epsilon, x_grad)  #  +-28 pixeles en [0,255]\n",
        "\n",
        "  y_adv = model(adv_x)\n",
        "  adv_pred = y_adv.max(1, keepdim=True)[1]\n",
        "  print(\"Adversarial image prediction: \", adv_pred.item())\n",
        "\n",
        "  if adv_pred.item() == label.item():\n",
        "    print(\"Attack failed... try with a greater epsilon\")\n",
        "\n",
        "  else:\n",
        "    print(\"Succesful attack!\")\n",
        "\n",
        "  adv_ex = adv_x.squeeze().detach().cpu().numpy()\n",
        "\n",
        "  for channel in range(3):\n",
        "    adv_ex[channel] = adv_ex[channel]*std[channel] + mean[channel]\n",
        "\n",
        "  adv_ex = np.transpose(adv_ex, (1,2,0))\n",
        "\n",
        "  plt.imshow(np.asarray(image))\n",
        "  plt.title('Original image')\n",
        "  plt.show()\n",
        "  plt.imshow(adv_ex)\n",
        "  plt.title('Adversarial image')\n",
        "  plt.show()"
      ],
      "execution_count": 0,
      "outputs": []
    },
    {
      "cell_type": "code",
      "metadata": {
        "id": "Mms5sRAHZgSh",
        "colab_type": "code",
        "colab": {
          "base_uri": "https://localhost:8080/",
          "height": 614
        },
        "outputId": "35f57d28-2587-4b4f-adc0-435326837ba3"
      },
      "source": [
        "test_fgsm('./img1.png', 0.56)"
      ],
      "execution_count": 115,
      "outputs": [
        {
          "output_type": "stream",
          "text": [
            "Original image prediction:  1\n",
            "Adversarial image prediction:  6\n",
            "Succesful attack!\n"
          ],
          "name": "stdout"
        },
        {
          "output_type": "display_data",
          "data": {
            "image/png": "[encoded data removed]",
            "text/plain": [
              "<Figure size 432x288 with 1 Axes>"
            ]
          },
          "metadata": {
            "tags": []
          }
        },
        {
          "output_type": "stream",
          "text": [
            "Clipping input data to the valid range for imshow with RGB data ([0..1] for floats or [0..255] for integers).\n"
          ],
          "name": "stderr"
        },
        {
          "output_type": "display_data",
          "data": {
            "image/png": "[encoded data removed]",
            "text/plain": [
              "<Figure size 432x288 with 1 Axes>"
            ]
          },
          "metadata": {
            "tags": []
          }
        }
      ]
    },
    {
      "cell_type": "code",
      "metadata": {
        "id": "k8L6PQtYD8M0",
        "colab_type": "code",
        "colab": {}
      },
      "source": [
        "acc, adv_examples = test_fgsm(iv3, device, adv_loader, 0.007, iters=1)"
      ],
      "execution_count": 0,
      "outputs": []
    },
    {
      "cell_type": "code",
      "metadata": {
        "id": "vCnlc6Ft3LVi",
        "colab_type": "code",
        "colab": {}
      },
      "source": [
        "def full_test_fgsm(model, device, test_loader, epsilon, iters=10000):\n",
        "  \n",
        "  # Initialize the network and set the model in evaluation mode. \n",
        "  model = model.to(device).eval()\n",
        "\n",
        "  # Accuracy counter\n",
        "  correct = 0\n",
        "  confidence = 0\n",
        "  total_time = 0\n",
        "  robustness = 0\n",
        "  adv_examples = []\n",
        "\n",
        "  i = 0\n",
        "\n",
        "  # Loop all examples in test set\n",
        "  for data, target in pbar(test_loader):\n",
        "    if i >= iters:\n",
        "      break\n",
        "    i += 1\n",
        "\n",
        "    # Send the data and label to the device\n",
        "    data, target = data.to(device), target.to(device)\n",
        "  \n",
        "    # Set requires_grad attribute of tensor. Important for Attack\n",
        "    data.requires_grad = True\n",
        "\n",
        "    # Forward pass the data through the model\n",
        "    output = model(data)\n",
        "    init_pred = output.max(1, keepdim=True)[1] # get the index of the max log-probability\n",
        "\n",
        "    # If the initial prediction is wrong, dont botter attacking\n",
        "    if init_pred.item() != target.item():\n",
        "      continue\n",
        "\n",
        "    # Calculate the loss\n",
        "    loss = F.nll_loss(output, target)\n",
        "\n",
        "    # Zero all existing gradients\n",
        "    model.zero_grad()\n",
        "\n",
        "    # Calculate gradients of model in backward pass\n",
        "    loss.backward()\n",
        "\n",
        "    # Collect datagrad\n",
        "    data_grad = data.grad.data\n",
        "\n",
        "    # Call FGSM attack\n",
        "    time_ini = time.time()\n",
        "    perturbed_data = fgsm(data, epsilon, data_grad)\n",
        "    time_end = time.time()\n",
        "    total_time += time_end-time_ini\n",
        "\n",
        "    # Update model robustness\n",
        "    delta = math.sqrt(32*32*3*epsilon**2)  # fgsm has a fixed delta(f,x) robustness\n",
        "    im_np = data.squeeze().detach().cpu().numpy()\n",
        "    robustness += delta / np.linalg.norm(im_np.flatten(), ord=2)\n",
        "\n",
        "    # Re-classify the perturbed image\n",
        "    output = model(perturbed_data)\n",
        "\n",
        "    # Check for success\n",
        "    final_pred = output.max(1, keepdim=True)[1] # get the index of the max log-probability\n",
        "    confidence += F.softmax(output, dim=1).max(1, keepdim=True)[0].item()  # adv. confidence\n",
        "    if final_pred.item() == target.item():\n",
        "      correct += 1\n",
        "    else:\n",
        "      # Save some adv examples for visualization later\n",
        "      if len(adv_examples) < 5:\n",
        "        adv_ex = perturbed_data.squeeze().detach().cpu().numpy()\n",
        "        adv_examples.append( (init_pred.item(), final_pred.item(), im_np, adv_ex) )\n",
        "\n",
        "  # Calculate final accuracy for this epsilon\n",
        "  final_acc = correct / float(iters)  # len(test_loader)\n",
        "  avg_confidence = confidence / float(iters)\n",
        "  avg_time = total_time / float(iters)\n",
        "  model_robustness = robustness / float(iters)\n",
        "  print(\"Epsilon: {}\\nTest Accuracy = {} / {} = {}\\nAverage confidence = {}\\nAverage time = {}\\nAverage magnitude of perturbations = {}\\nModel robustness = {}\"\n",
        "    .format(epsilon, correct, iters, final_acc, avg_confidence, avg_time, delta, model_robustness))  # len(test_loader)\n",
        "\n",
        "  # Return the accuracy and adversarial examples\n",
        "  return final_acc, adv_examples"
      ],
      "execution_count": 0,
      "outputs": []
    },
    {
      "cell_type": "code",
      "metadata": {
        "id": "gvVQs4Gk6JDh",
        "colab_type": "code",
        "colab": {}
      },
      "source": [
        "def plot_examples(epsilon, examples, mean, std):\n",
        "  #cnt = 0\n",
        "  #plt.figure(figsize=(8,10))\n",
        "  for j in range(len(examples)):\n",
        "    #cnt += 1\n",
        "    #plt.subplot(len(examples), 2, cnt)\n",
        "    #plt.xticks([], [])\n",
        "    #plt.yticks([], [])\n",
        "    #if j == 0:\n",
        "      #plt.ylabel(\"Eps: {}\".format(epsilon), fontsize=14)\n",
        "    orig,adv,im,ex = examples[j]\n",
        "    \n",
        "    for channel in range(3):\n",
        "      im[channel] = im[channel]*std[channel] + mean[channel]\n",
        "      ex[channel] = ex[channel]*std[channel] + mean[channel]\n",
        "\n",
        "    im = np.transpose(im, (1,2,0))\n",
        "    ex = np.transpose(ex, (1,2,0))\n",
        "\n",
        "    plt.title(\"{} -> {}\".format(orig, adv))\n",
        "    plt.imshow(im, cmap=\"gray\")\n",
        "    plt.show()\n",
        "    plt.imshow(ex, cmap=\"gray\")\n",
        "    plt.show()\n",
        "  #plt.tight_layout()\n",
        "  #plt.show()"
      ],
      "execution_count": 0,
      "outputs": []
    },
    {
      "cell_type": "code",
      "metadata": {
        "id": "YxpbytiNMOGJ",
        "colab_type": "code",
        "colab": {}
      },
      "source": [
        "def clamp_norm(img, inf, sup):\n",
        "  mean, std = [0.4914, 0.4822, 0.4465], [0.2023, 0.1994, 0.2010]\n",
        "  im = img.detach().cpu().numpy()\n",
        "  for channel in range(3):\n",
        "    lim_inf = (inf-mean[channel]) / std[channel]\n",
        "    lim_sup = (sup-mean[channel]) / std[channel]\n",
        "    for i, arr in enumerate(im[0][channel]):\n",
        "      for j, pixel in enumerate(arr):\n",
        "        if pixel < lim_inf:\n",
        "          im[0][channel][i][j] = lim_inf\n",
        "        elif pixel > lim_sup:\n",
        "          im[0][channel][i][j] = lim_sup\n",
        "  return (torch.from_numpy(im).to(device))"
      ],
      "execution_count": 0,
      "outputs": []
    },
    {
      "cell_type": "code",
      "metadata": {
        "id": "HWgurvFbMdDD",
        "colab_type": "code",
        "colab": {}
      },
      "source": [
        "def fgsm(image, epsilon, data_grad):\n",
        "  # Collect the element-wise sign of the data gradient\n",
        "  sign_data_grad = data_grad.sign()\n",
        "  # Create the perturbed image by adjusting each pixel of the input image\n",
        "  perturbed_image = image + epsilon*sign_data_grad\n",
        "  # Adding clipping to maintain [0,1] range\n",
        "  perturbed_image = clamp_norm(perturbed_image, 0, 1)\n",
        "  # Return the perturbed image\n",
        "  return perturbed_image"
      ],
      "execution_count": 0,
      "outputs": []
    },
    {
      "cell_type": "code",
      "metadata": {
        "id": "jjzWahD4Qm5w",
        "colab_type": "code",
        "outputId": "95e2cdd0-441d-421b-c8b8-08f224e226e1",
        "colab": {
          "base_uri": "https://localhost:8080/",
          "height": 1000
        }
      },
      "source": [
        "plot_examples(0.1, adv_examples, [0.4914, 0.4822, 0.4465], [0.2023, 0.1994, 0.2010])"
      ],
      "execution_count": 0,
      "outputs": [
        {
          "output_type": "display_data",
          "data": {
            "image/png": "[encoded data removed]",
            "text/plain": [
              "<Figure size 432x288 with 1 Axes>"
            ]
          },
          "metadata": {
            "tags": []
          }
        },
        {
          "output_type": "display_data",
          "data": {
            "image/png": "[encoded data removed]",
            "text/plain": [
              "<Figure size 432x288 with 1 Axes>"
            ]
          },
          "metadata": {
            "tags": []
          }
        },
        {
          "output_type": "display_data",
          "data": {
            "image/png": "[encoded data removed]",
            "text/plain": [
              "<Figure size 432x288 with 1 Axes>"
            ]
          },
          "metadata": {
            "tags": []
          }
        },
        {
          "output_type": "display_data",
          "data": {
            "image/png": "[encoded data removed]",
            "text/plain": [
              "<Figure size 432x288 with 1 Axes>"
            ]
          },
          "metadata": {
            "tags": []
          }
        },
        {
          "output_type": "display_data",
          "data": {
            "image/png": "[encoded data removed]",
            "text/plain": [
              "<Figure size 432x288 with 1 Axes>"
            ]
          },
          "metadata": {
            "tags": []
          }
        },
        {
          "output_type": "display_data",
          "data": {
            "image/png": "[encoded data removed]",
            "text/plain": [
              "<Figure size 432x288 with 1 Axes>"
            ]
          },
          "metadata": {
            "tags": []
          }
        },
        {
          "output_type": "display_data",
          "data": {
            "image/png": "[encoded data removed]",
            "text/plain": [
              "<Figure size 432x288 with 1 Axes>"
            ]
          },
          "metadata": {
            "tags": []
          }
        },
        {
          "output_type": "display_data",
          "data": {
            "image/png": "[encoded data removed]",
            "text/plain": [
              "<Figure size 432x288 with 1 Axes>"
            ]
          },
          "metadata": {
            "tags": []
          }
        },
        {
          "output_type": "display_data",
          "data": {
            "image/png": "[encoded data removed]",
            "text/plain": [
              "<Figure size 432x288 with 1 Axes>"
            ]
          },
          "metadata": {
            "tags": []
          }
        },
        {
          "output_type": "display_data",
          "data": {
            "image/png": "[encoded data removed]",
            "text/plain": [
              "<Figure size 432x288 with 1 Axes>"
            ]
          },
          "metadata": {
            "tags": []
          }
        }
      ]
    }
  ]
}