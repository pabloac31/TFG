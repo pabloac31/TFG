{
  "nbformat": 4,
  "nbformat_minor": 0,
  "metadata": {
    "colab": {
      "name": "Untitled",
      "provenance": [],
      "collapsed_sections": [],
      "authorship_tag": "ABX9TyOR7oLsZr/0YuV95A5D/F7P",
      "include_colab_link": true
    },
    "kernelspec": {
      "name": "python3",
      "display_name": "Python 3"
    },
    "accelerator": "GPU"
  },
  "cells": [
    {
      "cell_type": "markdown",
      "metadata": {
        "id": "view-in-github",
        "colab_type": "text"
      },
      "source": [
        "<a href=\"https://colab.research.google.com/github/pabloac31/TFG/blob/master/adversarial_attacks.ipynb\" target=\"_parent\"><img src=\"https://colab.research.google.com/assets/colab-badge.svg\" alt=\"Open In Colab\"/></a>"
      ]
    },
    {
      "cell_type": "code",
      "metadata": {
        "id": "Lt4JZSIgsx13",
        "colab_type": "code",
        "colab": {
          "base_uri": "https://localhost:8080/",
          "height": 34
        },
        "outputId": "a88f8062-2bd4-47d7-e24d-a8edb6222fc8"
      },
      "source": [
        "%tensorflow_version 1.x"
      ],
      "execution_count": 1,
      "outputs": [
        {
          "output_type": "stream",
          "text": [
            "TensorFlow 1.x selected.\n"
          ],
          "name": "stdout"
        }
      ]
    },
    {
      "cell_type": "code",
      "metadata": {
        "id": "wq90ncM-relQ",
        "colab_type": "code",
        "colab": {}
      },
      "source": [
        "import tensorflow as tf\n",
        "import keras\n",
        "\n",
        "import matplotlib.pyplot as plt\n",
        "import numpy as np\n",
        "\n",
        "from keras.applications.inception_v3 import InceptionV3, decode_predictions\n",
        "from keras import backend as K\n",
        "from keras.preprocessing import image"
      ],
      "execution_count": 0,
      "outputs": []
    },
    {
      "cell_type": "code",
      "metadata": {
        "id": "EBjmK4kwryF4",
        "colab_type": "code",
        "colab": {}
      },
      "source": [
        "iv3 = InceptionV3()\n",
        "print(iv3.summary())"
      ],
      "execution_count": 0,
      "outputs": []
    },
    {
      "cell_type": "code",
      "metadata": {
        "id": "oWW_IPYw7aLe",
        "colab_type": "code",
        "colab": {
          "base_uri": "https://localhost:8080/",
          "height": 104
        },
        "outputId": "a2d25f19-8d60-48b2-8ad8-ec06fc3d6ce0"
      },
      "source": [
        "x = image.img_to_array(image.load_img('./asdf.jpeg', target_size=(299,299)))\n",
        "# Cambio de rango, 0-255 -> -1,1\n",
        "x /= 255\n",
        "x -= 0.5\n",
        "x *= 2\n",
        "\n",
        "x = x.reshape([1, x.shape[0], x.shape[1], x.shape[2]])\n",
        "\n",
        "y = iv3.predict(x)\n",
        "decode_predictions(y)"
      ],
      "execution_count": 20,
      "outputs": [
        {
          "output_type": "execute_result",
          "data": {
            "text/plain": [
              "[[('n09332890', 'lakeside', 0.2709903),\n",
              "  ('n02951358', 'canoe', 0.14766087),\n",
              "  ('n03721384', 'marimba', 0.09619194),\n",
              "  ('n03873416', 'paddle', 0.0706818),\n",
              "  ('n02859443', 'boathouse', 0.045249984)]]"
            ]
          },
          "metadata": {
            "tags": []
          },
          "execution_count": 20
        }
      ]
    }
  ]
}