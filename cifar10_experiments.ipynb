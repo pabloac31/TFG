{
  "nbformat": 4,
  "nbformat_minor": 0,
  "metadata": {
    "colab": {
      "name": "cifar10_experiments.ipynb",
      "provenance": [],
      "authorship_tag": "ABX9TyOvZLCeDZ9XpWCm24TLn5dv",
      "include_colab_link": true
    },
    "kernelspec": {
      "name": "python3",
      "display_name": "Python 3"
    },
    "accelerator": "GPU"
  },
  "cells": [
    {
      "cell_type": "markdown",
      "metadata": {
        "id": "view-in-github",
        "colab_type": "text"
      },
      "source": [
        "<a href=\"https://colab.research.google.com/github/pabloac31/TFG/blob/master/cifar10_experiments.ipynb\" target=\"_parent\"><img src=\"https://colab.research.google.com/assets/colab-badge.svg\" alt=\"Open In Colab\"/></a>"
      ]
    },
    {
      "cell_type": "markdown",
      "metadata": {
        "id": "BZIrtm8vDL9s",
        "colab_type": "text"
      },
      "source": [
        "**Clone the repository**"
      ]
    },
    {
      "cell_type": "code",
      "metadata": {
        "id": "n6ctRAXTcHH2",
        "colab_type": "code",
        "outputId": "8fe1d1e0-7cb1-4911-bce9-ae4a2ba295e4",
        "colab": {
          "base_uri": "https://localhost:8080/",
          "height": 52
        }
      },
      "source": [
        "! git clone https://github.com/pabloac31/TFG.git\n",
        "%cd TFG"
      ],
      "execution_count": 74,
      "outputs": [
        {
          "output_type": "stream",
          "text": [
            "[Errno 2] No such file or directory: 'TFG'\n",
            "/content/TFG\n"
          ],
          "name": "stdout"
        }
      ]
    },
    {
      "cell_type": "markdown",
      "metadata": {
        "id": "zmR1_uT1ELeN",
        "colab_type": "text"
      },
      "source": [
        "**Using Tensorflow v1**"
      ]
    },
    {
      "cell_type": "code",
      "metadata": {
        "id": "f1YD-wgycX9P",
        "colab_type": "code",
        "colab": {}
      },
      "source": [
        "%tensorflow_version 1.x"
      ],
      "execution_count": 0,
      "outputs": []
    },
    {
      "cell_type": "markdown",
      "metadata": {
        "id": "wThIjzaBEWab",
        "colab_type": "text"
      },
      "source": [
        "**Import libraries**"
      ]
    },
    {
      "cell_type": "code",
      "metadata": {
        "id": "d6Qs_zdCcZS7",
        "colab_type": "code",
        "colab": {}
      },
      "source": [
        "from cifar10_models import *\n",
        "from utils import *\n",
        "from adversarial_attacks import *"
      ],
      "execution_count": 0,
      "outputs": []
    },
    {
      "cell_type": "markdown",
      "metadata": {
        "id": "JFqYGnBSFMxL",
        "colab_type": "text"
      },
      "source": [
        "**Use CUDA if available for increase speed**"
      ]
    },
    {
      "cell_type": "code",
      "metadata": {
        "id": "7Ugar45Fcrmo",
        "colab_type": "code",
        "outputId": "871a576a-bda5-40d4-b24e-9bb9fb3812c5",
        "colab": {
          "base_uri": "https://localhost:8080/",
          "height": 34
        }
      },
      "source": [
        "use_cuda=True\n",
        "print(\"CUDA Available: \",torch.cuda.is_available())\n",
        "device = torch.device(\"cuda\" if (use_cuda and torch.cuda.is_available()) else \"cpu\")"
      ],
      "execution_count": 77,
      "outputs": [
        {
          "output_type": "stream",
          "text": [
            "CUDA Available:  True\n"
          ],
          "name": "stdout"
        }
      ]
    },
    {
      "cell_type": "markdown",
      "metadata": {
        "id": "6eLXv5lbGHwx",
        "colab_type": "text"
      },
      "source": [
        "**Create dataloaders**\n",
        "\n",
        "Load CIFAR10 test images as tensors of size NxCxHxW normalized with CIFAR10 mean and std."
      ]
    },
    {
      "cell_type": "code",
      "metadata": {
        "id": "_8pZ6UNBctah",
        "colab_type": "code",
        "outputId": "aa0e2ab3-cff9-4724-be66-765f610f22f8",
        "colab": {
          "base_uri": "https://localhost:8080/",
          "height": 69
        }
      },
      "source": [
        "test_loader = testloader_cifar10('./data', batch_size=256, shuffle=False)  # Dataloader for testing the model \n",
        "adv_loader = testloader_cifar10('./data', batch_size=1)                    # Dataloader for adversarial attacks\n",
        "univ_loader = testloader_cifar10('./data', batch_size=1, shuffle=False)    # Dataloader for universal attack"
      ],
      "execution_count": 78,
      "outputs": [
        {
          "output_type": "stream",
          "text": [
            "Files already downloaded and verified\n",
            "Files already downloaded and verified\n",
            "Files already downloaded and verified\n"
          ],
          "name": "stdout"
        }
      ]
    },
    {
      "cell_type": "markdown",
      "metadata": {
        "id": "g7h0dj4BE-U7",
        "colab_type": "text"
      },
      "source": [
        "**Load models pretrained on CIFAR10**"
      ]
    },
    {
      "cell_type": "code",
      "metadata": {
        "id": "Iq7UhHCkcpW9",
        "colab_type": "code",
        "colab": {}
      },
      "source": [
        "resnet = resnet50(pretrained=True)\n",
        "densenet = densenet169(pretrained=True)\n",
        "mobnet = mobilenet_v2(pretrained=True)\n",
        "iv3 = inception_v3(pretrained=True)"
      ],
      "execution_count": 0,
      "outputs": []
    },
    {
      "cell_type": "markdown",
      "metadata": {
        "id": "_HMLdKZWGvKt",
        "colab_type": "text"
      },
      "source": [
        "**Test models**"
      ]
    },
    {
      "cell_type": "code",
      "metadata": {
        "id": "1JwdTaCecvpK",
        "colab_type": "code",
        "outputId": "dd5becf9-f70c-4eb9-df08-85b66a6f494b",
        "colab": {
          "base_uri": "https://localhost:8080/",
          "height": 69
        }
      },
      "source": [
        "acc = test_model(resnet, device, test_loader)\n",
        "print('\\nAccuracy on CIFAR10 test set: ', acc)"
      ],
      "execution_count": 0,
      "outputs": [
        {
          "output_type": "stream",
          "text": [
            "100%|██████████| 40/40 [00:08<00:00,  4.53it/s]"
          ],
          "name": "stderr"
        },
        {
          "output_type": "stream",
          "text": [
            "\n",
            "Accuracy on CIFAR10 test set:  0.9212\n"
          ],
          "name": "stdout"
        },
        {
          "output_type": "stream",
          "text": [
            "\n"
          ],
          "name": "stderr"
        }
      ]
    },
    {
      "cell_type": "markdown",
      "metadata": {
        "id": "m5-jN371fV32",
        "colab_type": "text"
      },
      "source": [
        "**Set method parameters**"
      ]
    },
    {
      "cell_type": "code",
      "metadata": {
        "id": "GVW-1y_PfhF2",
        "colab_type": "code",
        "colab": {}
      },
      "source": [
        "params_fgsm = {'epsilon': 0.01, 'clip': True}\n",
        "params_deepfool = {'num_classes': 10, 'overshoot': 0.01, 'max_iter': 50, 'p': 2, 'clip': True}\n",
        "params_sparsefool = {'delta': 255, 'lambda_': 3.0, 'max_iter': 50, 'epsilon': 0.02}\n",
        "params_opa1 = {'dim': 1, 'target_label': 0, 'iters': 100, 'pop_size': 400, 'verbose': True}\n",
        "params_opa2 = {'dim': 1, 'target_label': 2, 'iters': 100, 'pop_size': 400, 'verbose': True}\n",
        "params_opa3 = {'dim': 1, 'target_label': 5, 'iters': 100, 'pop_size': 400, 'verbose': True}"
      ],
      "execution_count": 0,
      "outputs": []
    },
    {
      "cell_type": "markdown",
      "metadata": {
        "id": "P4ipPW1fexSV",
        "colab_type": "text"
      },
      "source": [
        "**Test methods**"
      ]
    },
    {
      "cell_type": "code",
      "metadata": {
        "id": "FDopbsIc6LnN",
        "colab_type": "code",
        "colab": {
          "base_uri": "https://localhost:8080/",
          "height": 52
        },
        "outputId": "214ca63f-fab2-4613-eca3-65b373232f66"
      },
      "source": [
        "min_rgb = {'cifar10': normalize(torch.tensor([0.,0.,0.], dtype=torch.double), dataset='cifar10')}\n",
        "max_rgb = {'cifar10': normalize(torch.tensor([1.,1.,1.], dtype=torch.double), dataset='cifar10')}\n",
        "print(min_rgb['cifar10'])\n",
        "print(max_rgb['cifar10'])"
      ],
      "execution_count": 81,
      "outputs": [
        {
          "output_type": "stream",
          "text": [
            "tensor([-2.4291, -2.4183, -2.2214], dtype=torch.float64)\n",
            "tensor([2.5141, 2.5968, 2.7537], dtype=torch.float64)\n"
          ],
          "name": "stdout"
        }
      ]
    },
    {
      "cell_type": "code",
      "metadata": {
        "id": "AHUn30pJcyPK",
        "colab_type": "code",
        "outputId": "2b8b451e-6ef3-4865-e08f-4b293f929043",
        "colab": {
          "base_uri": "https://localhost:8080/",
          "height": 1000
        }
      },
      "source": [
        "image, label = next(iter(adv_loader))\n",
        "scores = test_method(resnet, device, image, label, method='one_pixel_attack', params=params_opa)"
      ],
      "execution_count": 128,
      "outputs": [
        {
          "output_type": "stream",
          "text": [
            "Target Probability [Iteration 0]: 0.7801\n",
            "Target Probability [Iteration 1]: 0.7801\n",
            "Target Probability [Iteration 2]: 0.6873\n",
            "Target Probability [Iteration 3]: 0.6873\n",
            "Target Probability [Iteration 4]: 0.6873\n",
            "Target Probability [Iteration 5]: 0.5637\n",
            "Target Probability [Iteration 6]: 0.4834\n",
            "Target Probability [Iteration 7]: 0.4834\n",
            "Target Probability [Iteration 8]: 0.4834\n",
            "Target Probability [Iteration 9]: 0.4834\n",
            "Target Probability [Iteration 10]: 0.4834\n",
            "Target Probability [Iteration 11]: 0.4834\n",
            "Target Probability [Iteration 12]: 0.4834\n",
            "Target Probability [Iteration 13]: 0.4834\n",
            "Target Probability [Iteration 14]: 0.4834\n",
            "Target Probability [Iteration 15]: 0.4834\n",
            "Target Probability [Iteration 16]: 0.4834\n",
            "Target Probability [Iteration 17]: 0.4834\n",
            "Target Probability [Iteration 18]: 0.4834\n",
            "Target Probability [Iteration 19]: 0.4834\n",
            "Target Probability [Iteration 20]: 0.4834\n",
            "Target Probability [Iteration 21]: 0.4834\n",
            "Target Probability [Iteration 22]: 0.4834\n",
            "Target Probability [Iteration 23]: 0.4834\n",
            "Target Probability [Iteration 24]: 0.4834\n",
            "Target Probability [Iteration 25]: 0.4834\n",
            "Target Probability [Iteration 26]: 0.4834\n",
            "Target Probability [Iteration 27]: 0.4834\n",
            "Target Probability [Iteration 28]: 0.4834\n",
            "Target Probability [Iteration 29]: 0.4834\n",
            "Target Probability [Iteration 30]: 0.4834\n",
            "Target Probability [Iteration 31]: 0.4769\n",
            "Target Probability [Iteration 32]: 0.4769\n",
            "Target Probability [Iteration 33]: 0.4769\n",
            "Target Probability [Iteration 34]: 0.3725\n",
            "Target Probability [Iteration 35]: 0.3725\n",
            "Target Probability [Iteration 36]: 0.3725\n",
            "Target Probability [Iteration 37]: 0.3725\n",
            "Target Probability [Iteration 38]: 0.3725\n",
            "Target Probability [Iteration 39]: 0.3725\n",
            "Target Probability [Iteration 40]: 0.3725\n",
            "Target Probability [Iteration 41]: 0.3725\n",
            "Target Probability [Iteration 42]: 0.3725\n",
            "Target Probability [Iteration 43]: 0.3725\n",
            "Target Probability [Iteration 44]: 0.3725\n",
            "Target Probability [Iteration 45]: 0.3725\n",
            "Target Probability [Iteration 46]: 0.3560\n",
            "Target Probability [Iteration 47]: 0.3346\n",
            "Target Probability [Iteration 48]: 0.3346\n",
            "Target Probability [Iteration 49]: 0.3346\n",
            "Target Probability [Iteration 50]: 0.3265\n",
            "Target Probability [Iteration 51]: 0.3265\n",
            "Target Probability [Iteration 52]: 0.3251\n",
            "Target Probability [Iteration 53]: 0.3079\n",
            "Target Probability [Iteration 54]: 0.3079\n",
            "Target Probability [Iteration 55]: 0.3079\n",
            "Target Probability [Iteration 56]: 0.3079\n",
            "Target Probability [Iteration 57]: 0.2899\n",
            "Target Probability [Iteration 58]: 0.2899\n",
            "Target Probability [Iteration 59]: 0.2899\n",
            "Target Probability [Iteration 60]: 0.2899\n",
            "Target Probability [Iteration 61]: 0.2899\n",
            "Target Probability [Iteration 62]: 0.2880\n",
            "Target Probability [Iteration 63]: 0.2732\n",
            "Target Probability [Iteration 64]: 0.2732\n",
            "Target Probability [Iteration 65]: 0.2732\n",
            "Target Probability [Iteration 66]: 0.2732\n",
            "Target Probability [Iteration 67]: 0.2732\n",
            "Target Probability [Iteration 68]: 0.2732\n",
            "Target Probability [Iteration 69]: 0.2732\n",
            "Target Probability [Iteration 70]: 0.2732\n",
            "Target Probability [Iteration 71]: 0.2732\n",
            "Target Probability [Iteration 72]: 0.2732\n",
            "Target Probability [Iteration 73]: 0.2732\n",
            "Target Probability [Iteration 74]: 0.2732\n",
            "Target Probability [Iteration 75]: 0.2732\n",
            "Target Probability [Iteration 76]: 0.2732\n",
            "Target Probability [Iteration 77]: 0.2732\n",
            "Target Probability [Iteration 78]: 0.2732\n",
            "Target Probability [Iteration 79]: 0.2729\n",
            "Target Probability [Iteration 80]: 0.2729\n",
            "Target Probability [Iteration 81]: 0.2711\n",
            "Target Probability [Iteration 82]: 0.2711\n",
            "Target Probability [Iteration 83]: 0.2711\n",
            "Target Probability [Iteration 84]: 0.2706\n",
            "Target Probability [Iteration 85]: 0.2706\n",
            "Target Probability [Iteration 86]: 0.2706\n",
            "Target Probability [Iteration 87]: 0.2706\n",
            "Target Probability [Iteration 88]: 0.2706\n",
            "Target Probability [Iteration 89]: 0.2706\n",
            "Target Probability [Iteration 90]: 0.2706\n",
            "Target Probability [Iteration 91]: 0.2706\n",
            "Target Probability [Iteration 92]: 0.2704\n",
            "Target Probability [Iteration 93]: 0.2704\n",
            "Target Probability [Iteration 94]: 0.2704\n",
            "Target Probability [Iteration 95]: 0.2701\n",
            "Target Probability [Iteration 96]: 0.2701\n",
            "Target Probability [Iteration 97]: 0.2698\n",
            "Target Probability [Iteration 98]: 0.2698\n",
            "Target Probability [Iteration 99]: 0.2698\n"
          ],
          "name": "stdout"
        },
        {
          "output_type": "stream",
          "text": [
            "Clipping input data to the valid range for imshow with RGB data ([0..1] for floats or [0..255] for integers).\n"
          ],
          "name": "stderr"
        },
        {
          "output_type": "stream",
          "text": [
            "Succesful attack!\n"
          ],
          "name": "stdout"
        },
        {
          "output_type": "display_data",
          "data": {
            "image/png": "[encoded data removed]",
            "text/plain": [
              "<Figure size 432x288 with 3 Axes>"
            ]
          },
          "metadata": {
            "tags": [],
            "needs_background": "light"
          }
        },
        {
          "output_type": "stream",
          "text": [
            "Number of iterations needed:  99\n"
          ],
          "name": "stdout"
        }
      ]
    },
    {
      "cell_type": "code",
      "metadata": {
        "id": "JBZOk4Es_1IN",
        "colab_type": "code",
        "colab": {
          "base_uri": "https://localhost:8080/",
          "height": 300
        },
        "outputId": "457704fe-8705-48d4-8a4b-05d93c7b1358"
      },
      "source": [
        "#sc3 = np.array(scores)\n",
        "a = np.insert(sc, 0, 0.9151)\n",
        "b = np.insert(sc2, 0, 0.9217)\n",
        "c = np.insert(sc3, 0, 0.9707)\n",
        "plt.plot(np.arange(101), a*100, 'r')\n",
        "plt.plot(np.arange(101), b*100, 'g')\n",
        "plt.plot(np.arange(101), c*100, 'b')\n",
        "plt.xlim(0, 100)\n",
        "plt.ylim(0, 100)\n",
        "plt.xlabel('Iteration')\n",
        "plt.ylabel('Target label probability')"
      ],
      "execution_count": 139,
      "outputs": [
        {
          "output_type": "execute_result",
          "data": {
            "text/plain": [
              "Text(0, 0.5, 'Target label probability')"
            ]
          },
          "metadata": {
            "tags": []
          },
          "execution_count": 139
        },
        {
          "output_type": "display_data",
          "data": {
            "image/png": "[encoded data removed]",
            "text/plain": [
              "<Figure size 432x288 with 1 Axes>"
            ]
          },
          "metadata": {
            "tags": [],
            "needs_background": "light"
          }
        }
      ]
    },
    {
      "cell_type": "markdown",
      "metadata": {
        "id": "KiUyFraoe-Xh",
        "colab_type": "text"
      },
      "source": [
        "**Perform a complete attack and show results**"
      ]
    },
    {
      "cell_type": "code",
      "metadata": {
        "id": "vHSVmm2dc0NZ",
        "colab_type": "code",
        "colab": {}
      },
      "source": [
        "adv_examples = attack_model(resnet, device, univ_loader, 'one_pixel_attack', params_opa, iters=10)"
      ],
      "execution_count": 0,
      "outputs": []
    },
    {
      "cell_type": "code",
      "metadata": {
        "id": "xseEdeDnHlGM",
        "colab_type": "code",
        "colab": {}
      },
      "source": [
        "v = universal_perturbation(univ_loader, iv3, device, delta=0.1)\n",
        "\n",
        "plt.imshow(denormalize_cifar10(v[0].cpu().detach().numpy()).transpose((1,2,0)))\n",
        "plt.title('Universal perturbation')\n",
        "plt.show()"
      ],
      "execution_count": 0,
      "outputs": []
    },
    {
      "cell_type": "code",
      "metadata": {
        "id": "TTnsNwRMmxWt",
        "colab_type": "code",
        "outputId": "de85220c-075a-412b-9379-2359bd7132c0",
        "colab": {
          "base_uri": "https://localhost:8080/",
          "height": 69
        }
      },
      "source": [
        "image = Image.open('./data/img1.png')\n",
        "x = TF.to_tensor(image)\n",
        "x = normalize_cifar10(x)\n",
        "x = x.unsqueeze_(0).to(device)\n",
        "label = torch.tensor([1]).to(device)\n",
        "print('Label:', label.item())\n",
        "x.requires_grad = True\n",
        "y = iv3(x)\n",
        "init_pred = y.max(1, keepdim=True)[1]\n",
        "print(\"Original image prediction: \", init_pred.item())\n",
        "x_r = x.add(v).to(device)\n",
        "pred = iv3(x_r).max(1, keepdim=True)[1]\n",
        "print(\"Perturbed image prediction: \", pred.item())"
      ],
      "execution_count": 0,
      "outputs": [
        {
          "output_type": "stream",
          "text": [
            "Label: 1\n",
            "Original image prediction:  1\n",
            "Perturbed image prediction:  2\n"
          ],
          "name": "stdout"
        }
      ]
    },
    {
      "cell_type": "code",
      "metadata": {
        "id": "ZoSdwQ1ne1mA",
        "colab_type": "code",
        "colab": {}
      },
      "source": [
        "img, label = next(iter(adv_loader))\n",
        "im = denormalize_cifar10(img.numpy()[0].copy()).transpose((1,2,0))\n",
        "plt.imshow(im)\n",
        "plt.show()\n",
        "label = label.item()\n",
        "success, sol, score = one_pixel_attack(iv3, device, img, label, pop_size=400, iters=20)\n",
        "print(success)\n",
        "print(score)\n",
        "adv = perturb(sol, img)\n",
        "im = denormalize_cifar10(adv.numpy()[0].copy()).transpose((1,2,0))\n",
        "plt.imshow(im)\n",
        "plt.show()"
      ],
      "execution_count": 0,
      "outputs": []
    },
    {
      "cell_type": "code",
      "metadata": {
        "id": "ehYkx3WVaCGl",
        "colab_type": "code",
        "colab": {}
      },
      "source": [
        "\"\"\"\"\"\"\"\"\"\"\"\"\"\"\" ONE PIXEL ATTACK \"\"\"\"\"\"\"\"\"\"\"\"\"\"\"\n",
        "\n",
        "def perturb(p, img, dataset='cifar10'):\n",
        "  # Elements of p should be in range [0,1]\n",
        "  img_size = img.size(2)  # H (= W)\n",
        "  p_img = img.clone()\n",
        "\n",
        "  for pert in p:\n",
        "    # Convert x-y coordinates to range [0,img_size)\n",
        "    xy = (pert[0:2].copy() * img_size).astype(int)  \n",
        "    xy = np.clip(xy, 0, img_size-1)\n",
        "\n",
        "    # Normalize RGB pixel values and clip to maintain the correct range\n",
        "    rgb = normalize(pert[2:5].copy(), dataset=dataset)\n",
        "    rgb = clip_image_values(torch.from_numpy(rgb), min_rgb[dataset], max_rgb[dataset])\n",
        "\n",
        "    # Change correponding pixels of the image\n",
        "    p_img[0,:,xy[0],xy[1]] = rgb\n",
        "  \n",
        "  return p_img\n",
        "\n",
        "\n",
        "def evaluate(model, device, candidates, img, label, dataset='cifar10'):\n",
        "  preds = []\n",
        "  # model = model.to(device).eval()  # already in eval mode when called\n",
        "  with torch.no_grad():\n",
        "    for i, xs in enumerate(candidates):\n",
        "      # Calculate the perturbed image\n",
        "      p_img = perturb(xs, img, dataset).to(device)\n",
        "      # Append the probability of the target label\n",
        "      preds.append(F.softmax(model(p_img).squeeze(), dim=0)[label].item())\n",
        "  return np.array(preds)\n",
        "\n",
        "\n",
        "def evolve(candidates, d, F=0.5, strategy=\"clip\"):\n",
        "  gen2 = candidates.copy()\n",
        "  num_candidates = len(candidates)\n",
        "  for i in range(num_candidates):\n",
        "    for p in range(d):\n",
        "      # Apply usual DE formula\n",
        "      rdm_idx = np.random.choice(num_candidates * d, 3, replace=False)\n",
        "      x1, x2, x3 = candidates[rdm_idx % num_candidates, rdm_idx // num_candidates]\n",
        "      x_next = (x1 + F * (x2 - x3))\n",
        "      if strategy == \"clip\":\n",
        "          gen2[i,p] = np.clip(x_next, 0, 1)\n",
        "      elif strategy == \"resample\":\n",
        "          x_oob = np.logical_or((x_next < 0), (1 < x_next))\n",
        "          x_next[x_oob] = np.random.random(5)[x_oob]\n",
        "          gen2[i,p] = x_next\n",
        "  return gen2\n",
        "\n",
        "\n",
        "def one_pixel_attack(model, device, img, label, d=1, target_label=None, iters=100, pop_size=400, verbose=True, dataset='cifar10'):\n",
        "  \n",
        "  # Targeted: maximize target_label if given (early stop > 50%)\n",
        "  # Untargeted: minimize true_label otherwise (early stop < 10%)\n",
        "\n",
        "  # Initialize population\n",
        "  candidates = np.random.random((pop_size, d, 5))\n",
        "  # RGB values in range [0,1] from a Gaussian distribution N(0.5,0.5)\n",
        "  candidates[:,:,2:5] = np.clip(np.random.normal(0.5, 0.5, (pop_size, d, 3)), 0, 1)\n",
        "  \n",
        "  # Select label for a targeted / non-targeted attack\n",
        "  is_targeted = target_label is not None\n",
        "  label = target_label if is_targeted else label\n",
        "\n",
        "  # Initial score (prob. of each perturbation)\n",
        "  fitness = evaluate(model, device, candidates, img, label, dataset)\n",
        "\n",
        "  scores = []\n",
        "\n",
        "  def is_success():\n",
        "      return (is_targeted and fitness.max() > 0.5) or ((not is_targeted) and fitness.min() < 0.1)\n",
        "\n",
        "  for iteration in range(iters):\n",
        "      # Early Stopping\n",
        "      if is_success():\n",
        "          break\n",
        "      \n",
        "      if verbose and iteration%1 == 0: # Print progress\n",
        "          print(\"Target Probability [Iteration {}]: {:.4f}\".format(iteration, fitness.max() if is_targeted else fitness.min()))\n",
        "          scores.append(fitness.max() if is_targeted else fitness.min())\n",
        "      \n",
        "      # Generate new candidate solutions\n",
        "      new_gen_candidates = evolve(candidates, d, strategy=\"resample\")\n",
        "      # Evaluate new solutions\n",
        "      new_gen_fitness = evaluate(model, device, new_gen_candidates, img, label, dataset)\n",
        "      # Replace old solutions with new ones where they are better\n",
        "      successors = new_gen_fitness > fitness if is_targeted else new_gen_fitness < fitness\n",
        "      candidates[successors] = new_gen_candidates[successors]\n",
        "      fitness[successors] = new_gen_fitness[successors]\n",
        "\n",
        "  # Select best candidate\n",
        "  best_idx = fitness.argmax() if is_targeted else fitness.argmin()\n",
        "  best_solution = candidates[best_idx]\n",
        "  best_score = fitness[best_idx]\n",
        "\n",
        "  return perturb(best_solution, img), iteration, scores"
      ],
      "execution_count": 0,
      "outputs": []
    },
    {
      "cell_type": "code",
      "metadata": {
        "id": "_CU4A8L3KmqW",
        "colab_type": "code",
        "colab": {}
      },
      "source": [
        "def test_method(model, device, img, label, method, params):\n",
        "\n",
        "  img = img.clone()\n",
        "\n",
        "  model = model.to(device).eval()\n",
        "\n",
        "  x = img.to(device)\n",
        "  label = label.to(device)\n",
        "\n",
        "  x.requires_grad = True\n",
        "\n",
        "  y = model(x)\n",
        "  init_pred = y.max(1, keepdim=True)[1]\n",
        "  x_conf = F.softmax(y, dim=1).max(1, keepdim=True)[0].item()  \n",
        "\n",
        "  if init_pred.item() != label.item():\n",
        "    print(\"Wrong classification...\")\n",
        "    return\n",
        "\n",
        "  # Call method\n",
        "  if method == 'fgsm':\n",
        "    adv_x, pert_x = fgsm(model, x, label, y, params[\"epsilon\"], params[\"clip\"])\n",
        "\n",
        "  elif method == 'deepfool':\n",
        "    _, adv_x, pert_x, n_iter = deepfool(model, device, x, params[\"num_classes\"], overshoot=params[\"overshoot\"], max_iter=params[\"max_iter\"], p=params[\"p\"], clip=params[\"clip\"])\n",
        "\n",
        "  elif method == 'sparsefool':\n",
        "    # Generate lower and upper bounds\n",
        "    delta = params[\"delta\"]\n",
        "    lb, ub =  valid_bounds(x, delta, dataset='cifar10')\n",
        "    lb = lb[None, :, :, :].to(device)\n",
        "    ub = ub[None, :, :, :].to(device)\n",
        "    adv_x, pert_x, n_iter = sparsefool(model, device, x, label.item(), lb, ub, params[\"lambda_\"], params[\"max_iter\"], params[\"epsilon\"])\n",
        "\n",
        "  elif method == 'one_pixel_attack':\n",
        "    adv_x, n_iter, scores = one_pixel_attack(model, device, x, label.item(), params[\"dim\"], params[\"target_label\"], params[\"iters\"], params[\"pop_size\"], params[\"verbose\"])\n",
        "    pert_x = adv_x - x\n",
        "\n",
        "  y_adv = model(adv_x)\n",
        "  adv_pred = y_adv.max(1, keepdim=True)[1]\n",
        "  adv_x_conf = F.softmax(y_adv, dim=1).max(1, keepdim=True)[0].item()  \n",
        "\n",
        "  if adv_pred.item() == label.item():\n",
        "    print(\"Attack failed...\")\n",
        "\n",
        "  else:\n",
        "    print(\"Succesful attack!\")\n",
        "\n",
        "  f = plt.figure()\n",
        "  f.add_subplot(1,3,1)\n",
        "  plt.title('Original image')\n",
        "  plt.axis('off')\n",
        "  f.text(.25, .3, cifar10_classes[label.item()] + ' ({:.2f}%)'.format(x_conf*100), ha='center')\n",
        "  plt.imshow(displayable(img))\n",
        "  f.add_subplot(1,3,2)\n",
        "  plt.title('Perturbation')\n",
        "  plt.axis('off')\n",
        "  plt.imshow(displayable(pert_x.cpu().detach()))\n",
        "  f.add_subplot(1,3,3)\n",
        "  plt.title('Adv. image')\n",
        "  plt.axis('off')\n",
        "  f.text(.8, .3, cifar10_classes[adv_pred.item()] + ' ({:.2f}%)'.format(adv_x_conf*100), ha='center')\n",
        "  plt.imshow(displayable(adv_x.cpu().detach()))\n",
        "  plt.show(block=True)\n",
        "\n",
        "  if method in ['deepfool',  'sparsefool', 'one_pixel_attack']:\n",
        "    print('Number of iterations needed: ', n_iter)\n",
        "\n",
        "  if method == 'sparsefool':\n",
        "    pert_pixels = pert_x.flatten().nonzero().size(0)\n",
        "    print('Number of perturbed pixels: ', pert_pixels) \n",
        "\n",
        "  if method == 'one_pixel_attack':\n",
        "    return scores"
      ],
      "execution_count": 0,
      "outputs": []
    },
    {
      "cell_type": "code",
      "metadata": {
        "id": "_zxW6hZmQfyC",
        "colab_type": "code",
        "colab": {}
      },
      "source": [
        "def attack_model(model, device, test_loader, method, params, p=2, iters=10000, dataset='cifar10'):\n",
        "\n",
        "  # Initialize the network and set the model in evaluation mode.\n",
        "  model = model.to(device).eval()\n",
        "\n",
        "  # Initialize stat counters\n",
        "  correct = 0\n",
        "  incorrect = 0\n",
        "  confidence = 0\n",
        "  total_time = 0\n",
        "  ex_robustness = 0\n",
        "  model_robustness = 0\n",
        "  method_iters = 0\n",
        "  n_pert_pixels = []\n",
        "  adv_examples = []\n",
        "\n",
        "  i = 0\n",
        "\n",
        "  # Loop (iters) examples in test set\n",
        "  for data, target in pbar(test_loader):\n",
        "    if i >= iters:\n",
        "      break\n",
        "    i += 1\n",
        "\n",
        "    # Send the data and label to the device\n",
        "    data, target = data.to(device), target.to(device)\n",
        "\n",
        "    # Set requires_grad attribute of tensor (important for some attacks)\n",
        "    if method in ['fgsm', 'deepfool', 'sparsefool']:\n",
        "        data.requires_grad = True\n",
        "\n",
        "    # Forward pass the data through the model\n",
        "    output = model(data)\n",
        "    init_pred = output.max(1, keepdim=True)[1] # get the index of the max log-probability\n",
        "\n",
        "    # If the initial prediction is wrong, dont botter attacking\n",
        "    if init_pred.item() != target.item():\n",
        "      continue\n",
        "\n",
        "    if method == 'fgsm':\n",
        "        # Call FGSM attack\n",
        "        time_ini = time.time()\n",
        "        perturbed_data, _ = fgsm(model, data, target, output, params[\"epsilon\"], params[\"clip\"], dataset)\n",
        "        time_end = time.time()\n",
        "        total_time += time_end-time_ini\n",
        "\n",
        "    elif method == 'deepfool':\n",
        "        # Call DeepFool attack\n",
        "        time_ini = time.time()\n",
        "        _, perturbed_data, _, n_iter = deepfool(model, device, data, params[\"num_classes\"], overshoot=params[\"overshoot\"], max_iter=params[\"max_iter\"], p=params[\"p\"], clip=params[\"clip\"])\n",
        "        time_end = time.time()\n",
        "        total_time += time_end-time_ini\n",
        "        method_iters += n_iter\n",
        "\n",
        "    elif method == 'sparsefool':\n",
        "        # Generate lower and upper bounds\n",
        "        delta = params[\"delta\"]\n",
        "        lb, ub =  valid_bounds(data, delta, dataset='cifar10')\n",
        "        lb = lb[None, :, :, :].to(device)\n",
        "        ub = ub[None, :, :, :].to(device)\n",
        "        # Call SparseFool attack\n",
        "        time_ini = time.time()\n",
        "        perturbed_data, perturbation, n_iter = sparsefool(model, device, data, target.item(), lb, ub, params[\"lambda_\"], params[\"max_iter\"], params[\"epsilon\"])\n",
        "        time_end = time.time()\n",
        "        total_time += time_end-time_ini\n",
        "        method_iters += n_iter\n",
        "        n_pert_pixels.append(perturbation.flatten().nonzero().size(0))\n",
        "\n",
        "    elif method == 'one_pixel_attack':\n",
        "        # Call one pixel attack\n",
        "        time_ini = time.time()\n",
        "        perturbed_data, n_iter, _ = one_pixel_attack(model, device, data, target.item(), params[\"dim\"], params[\"target_label\"], params[\"iters\"], params[\"pop_size\"], params[\"verbose\"])\n",
        "        time_end = time.time()\n",
        "        total_time += time_end-time_ini\n",
        "        method_iters += n_iter\n",
        "\n",
        "\n",
        "    # Update model robustness\n",
        "    # multiply by std to make it independent of the normalization used\n",
        "    difference = de_scale(perturbed_data-data, dataset)\n",
        "    if p == 2:\n",
        "      adv_rob = torch.norm(difference)  # Frobenius norm (p=2)\n",
        "      model_robustness += adv_rob / torch.norm(de_scale(data, dataset))\n",
        "    elif p == np.inf:\n",
        "      adv_rob = torch.norm(difference, float('inf'))  # Inf norm (p=inf)\n",
        "      model_robustness += adv_rob / torch.norm(de_scale(data, dataset), float('inf'))\n",
        "    ex_robustness += adv_rob\n",
        "    \n",
        "    # Re-classify the perturbed image\n",
        "    output = model(perturbed_data)\n",
        "\n",
        "    # Check for success\n",
        "    final_pred = output.max(1, keepdim=True)[1] # get the index of the max log-probability\n",
        "    \n",
        "    if final_pred.item() == target.item():\n",
        "      correct += 1\n",
        "    \n",
        "    else:\n",
        "      incorrect += 1\n",
        "      # Update average confidence\n",
        "      confidence += F.softmax(output, dim=1).max(1, keepdim=True)[0].item()  \n",
        "      # Save some adv examples for visualization later\n",
        "      if len(adv_examples) < 5:\n",
        "        adv_examples.append( (init_pred.item(), final_pred.item(), data.detach().cpu(), perturbed_data.detach().cpu()) )\n",
        "\n",
        "  # Calculate stats\n",
        "  final_acc = correct / float(iters)  # len(test_loader)\n",
        "  avg_confidence = confidence / float(incorrect)\n",
        "  avg_time = total_time / float(correct+incorrect)\n",
        "  avg_ex_robustness = ex_robustness / float(correct+incorrect)\n",
        "  model_robustness = model_robustness / float(correct+incorrect)\n",
        "  print(\"\\n======== RESULTS ========\")\n",
        "  print(\"Test Accuracy = {} / {} = {:.4f}\\nAverage confidence = {:.4f}\\nAverage time = {:.4f}\\nAverage magnitude of perturbations = {:.4f}\\nModel robustness = {:.4f}\"\n",
        "    .format(correct, iters, final_acc, avg_confidence, avg_time, avg_ex_robustness, model_robustness))\n",
        "\n",
        "  if method in ['deepfool', 'sparsefool', 'one_pixel_attack']:\n",
        "    print(\"Avg. iters = {:.2f}\".format(method_iters / float(correct+incorrect)))\n",
        "\n",
        "  if method == 'sparsefool':\n",
        "    print(\"Median num. of pixels perturbed = \", statistics.median(n_pert_pixels))\n",
        "    print(\"Average num. of pixels perturbed = {:.2f}\".format(statistics.mean(n_pert_pixels)))\n",
        "\n",
        "  # Return adversarial examples\n",
        "  return adv_examples"
      ],
      "execution_count": 0,
      "outputs": []
    }
  ]
}