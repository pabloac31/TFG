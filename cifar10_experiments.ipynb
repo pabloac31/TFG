{
  "nbformat": 4,
  "nbformat_minor": 0,
  "metadata": {
    "colab": {
      "name": "cifar10_experiments.ipynb",
      "provenance": [],
      "authorship_tag": "ABX9TyMrQv6t7tWc0AQtitXFIPFn",
      "include_colab_link": true
    },
    "kernelspec": {
      "name": "python3",
      "display_name": "Python 3"
    },
    "accelerator": "GPU",
    "widgets": {
      "application/vnd.jupyter.widget-state+json": {
        "6fff3b8e4fd7402cb6854f52580acae6": {
          "model_module": "@jupyter-widgets/controls",
          "model_name": "HBoxModel",
          "state": {
            "_view_name": "HBoxView",
            "_dom_classes": [],
            "_model_name": "HBoxModel",
            "_view_module": "@jupyter-widgets/controls",
            "_model_module_version": "1.5.0",
            "_view_count": null,
            "_view_module_version": "1.5.0",
            "box_style": "",
            "layout": "IPY_MODEL_9ee949047762464cbd92f102eae48661",
            "_model_module": "@jupyter-widgets/controls",
            "children": [
              "IPY_MODEL_ed431153ed3e4388a50abd4ae81058fd",
              "IPY_MODEL_243dba882ad14b7b9dd98f4c1b781975"
            ]
          }
        },
        "9ee949047762464cbd92f102eae48661": {
          "model_module": "@jupyter-widgets/base",
          "model_name": "LayoutModel",
          "state": {
            "_view_name": "LayoutView",
            "grid_template_rows": null,
            "right": null,
            "justify_content": null,
            "_view_module": "@jupyter-widgets/base",
            "overflow": null,
            "_model_module_version": "1.2.0",
            "_view_count": null,
            "flex_flow": null,
            "width": null,
            "min_width": null,
            "border": null,
            "align_items": null,
            "bottom": null,
            "_model_module": "@jupyter-widgets/base",
            "top": null,
            "grid_column": null,
            "overflow_y": null,
            "overflow_x": null,
            "grid_auto_flow": null,
            "grid_area": null,
            "grid_template_columns": null,
            "flex": null,
            "_model_name": "LayoutModel",
            "justify_items": null,
            "grid_row": null,
            "max_height": null,
            "align_content": null,
            "visibility": null,
            "align_self": null,
            "height": null,
            "min_height": null,
            "padding": null,
            "grid_auto_rows": null,
            "grid_gap": null,
            "max_width": null,
            "order": null,
            "_view_module_version": "1.2.0",
            "grid_template_areas": null,
            "object_position": null,
            "object_fit": null,
            "grid_auto_columns": null,
            "margin": null,
            "display": null,
            "left": null
          }
        },
        "ed431153ed3e4388a50abd4ae81058fd": {
          "model_module": "@jupyter-widgets/controls",
          "model_name": "IntProgressModel",
          "state": {
            "_view_name": "ProgressView",
            "style": "IPY_MODEL_63eef7288b654975aebb7fd939aa39c9",
            "_dom_classes": [],
            "description": "",
            "_model_name": "IntProgressModel",
            "bar_style": "info",
            "max": 1,
            "_view_module": "@jupyter-widgets/controls",
            "_model_module_version": "1.5.0",
            "value": 1,
            "_view_count": null,
            "_view_module_version": "1.5.0",
            "orientation": "horizontal",
            "min": 0,
            "description_tooltip": null,
            "_model_module": "@jupyter-widgets/controls",
            "layout": "IPY_MODEL_e6fa5247dc174c3fa45fc8cfbd3b466f"
          }
        },
        "243dba882ad14b7b9dd98f4c1b781975": {
          "model_module": "@jupyter-widgets/controls",
          "model_name": "HTMLModel",
          "state": {
            "_view_name": "HTMLView",
            "style": "IPY_MODEL_793072c4dda444aca0ae22af5a683b1c",
            "_dom_classes": [],
            "description": "",
            "_model_name": "HTMLModel",
            "placeholder": "​",
            "_view_module": "@jupyter-widgets/controls",
            "_model_module_version": "1.5.0",
            "value": " 170500096/? [00:20&lt;00:00, 83152198.74it/s]",
            "_view_count": null,
            "_view_module_version": "1.5.0",
            "description_tooltip": null,
            "_model_module": "@jupyter-widgets/controls",
            "layout": "IPY_MODEL_c29c2a2d4daa4d4fb0e13647f260d49b"
          }
        },
        "63eef7288b654975aebb7fd939aa39c9": {
          "model_module": "@jupyter-widgets/controls",
          "model_name": "ProgressStyleModel",
          "state": {
            "_view_name": "StyleView",
            "_model_name": "ProgressStyleModel",
            "description_width": "initial",
            "_view_module": "@jupyter-widgets/base",
            "_model_module_version": "1.5.0",
            "_view_count": null,
            "_view_module_version": "1.2.0",
            "bar_color": null,
            "_model_module": "@jupyter-widgets/controls"
          }
        },
        "e6fa5247dc174c3fa45fc8cfbd3b466f": {
          "model_module": "@jupyter-widgets/base",
          "model_name": "LayoutModel",
          "state": {
            "_view_name": "LayoutView",
            "grid_template_rows": null,
            "right": null,
            "justify_content": null,
            "_view_module": "@jupyter-widgets/base",
            "overflow": null,
            "_model_module_version": "1.2.0",
            "_view_count": null,
            "flex_flow": null,
            "width": null,
            "min_width": null,
            "border": null,
            "align_items": null,
            "bottom": null,
            "_model_module": "@jupyter-widgets/base",
            "top": null,
            "grid_column": null,
            "overflow_y": null,
            "overflow_x": null,
            "grid_auto_flow": null,
            "grid_area": null,
            "grid_template_columns": null,
            "flex": null,
            "_model_name": "LayoutModel",
            "justify_items": null,
            "grid_row": null,
            "max_height": null,
            "align_content": null,
            "visibility": null,
            "align_self": null,
            "height": null,
            "min_height": null,
            "padding": null,
            "grid_auto_rows": null,
            "grid_gap": null,
            "max_width": null,
            "order": null,
            "_view_module_version": "1.2.0",
            "grid_template_areas": null,
            "object_position": null,
            "object_fit": null,
            "grid_auto_columns": null,
            "margin": null,
            "display": null,
            "left": null
          }
        },
        "793072c4dda444aca0ae22af5a683b1c": {
          "model_module": "@jupyter-widgets/controls",
          "model_name": "DescriptionStyleModel",
          "state": {
            "_view_name": "StyleView",
            "_model_name": "DescriptionStyleModel",
            "description_width": "",
            "_view_module": "@jupyter-widgets/base",
            "_model_module_version": "1.5.0",
            "_view_count": null,
            "_view_module_version": "1.2.0",
            "_model_module": "@jupyter-widgets/controls"
          }
        },
        "c29c2a2d4daa4d4fb0e13647f260d49b": {
          "model_module": "@jupyter-widgets/base",
          "model_name": "LayoutModel",
          "state": {
            "_view_name": "LayoutView",
            "grid_template_rows": null,
            "right": null,
            "justify_content": null,
            "_view_module": "@jupyter-widgets/base",
            "overflow": null,
            "_model_module_version": "1.2.0",
            "_view_count": null,
            "flex_flow": null,
            "width": null,
            "min_width": null,
            "border": null,
            "align_items": null,
            "bottom": null,
            "_model_module": "@jupyter-widgets/base",
            "top": null,
            "grid_column": null,
            "overflow_y": null,
            "overflow_x": null,
            "grid_auto_flow": null,
            "grid_area": null,
            "grid_template_columns": null,
            "flex": null,
            "_model_name": "LayoutModel",
            "justify_items": null,
            "grid_row": null,
            "max_height": null,
            "align_content": null,
            "visibility": null,
            "align_self": null,
            "height": null,
            "min_height": null,
            "padding": null,
            "grid_auto_rows": null,
            "grid_gap": null,
            "max_width": null,
            "order": null,
            "_view_module_version": "1.2.0",
            "grid_template_areas": null,
            "object_position": null,
            "object_fit": null,
            "grid_auto_columns": null,
            "margin": null,
            "display": null,
            "left": null
          }
        }
      }
    }
  },
  "cells": [
    {
      "cell_type": "markdown",
      "metadata": {
        "id": "view-in-github",
        "colab_type": "text"
      },
      "source": [
        "<a href=\"https://colab.research.google.com/github/pabloac31/TFG/blob/master/cifar10_experiments.ipynb\" target=\"_parent\"><img src=\"https://colab.research.google.com/assets/colab-badge.svg\" alt=\"Open In Colab\"/></a>"
      ]
    },
    {
      "cell_type": "code",
      "metadata": {
        "id": "n6ctRAXTcHH2",
        "colab_type": "code",
        "outputId": "0c98b977-6b6d-4bc7-80d9-1071f469312a",
        "colab": {
          "base_uri": "https://localhost:8080/",
          "height": 156
        }
      },
      "source": [
        "! git clone https://github.com/pabloac31/TFG.git\n",
        "%cd TFG"
      ],
      "execution_count": 1,
      "outputs": [
        {
          "output_type": "stream",
          "text": [
            "Cloning into 'TFG'...\n",
            "remote: Enumerating objects: 87, done.\u001b[K\n",
            "remote: Counting objects:   1% (1/87)\u001b[K\rremote: Counting objects:   2% (2/87)\u001b[K\rremote: Counting objects:   3% (3/87)\u001b[K\rremote: Counting objects:   4% (4/87)\u001b[K\rremote: Counting objects:   5% (5/87)\u001b[K\rremote: Counting objects:   6% (6/87)\u001b[K\rremote: Counting objects:   8% (7/87)\u001b[K\rremote: Counting objects:   9% (8/87)\u001b[K\rremote: Counting objects:  10% (9/87)\u001b[K\rremote: Counting objects:  11% (10/87)\u001b[K\rremote: Counting objects:  12% (11/87)\u001b[K\rremote: Counting objects:  13% (12/87)\u001b[K\rremote: Counting objects:  14% (13/87)\u001b[K\rremote: Counting objects:  16% (14/87)\u001b[K\rremote: Counting objects:  17% (15/87)\u001b[K\rremote: Counting objects:  18% (16/87)\u001b[K\rremote: Counting objects:  19% (17/87)\u001b[K\rremote: Counting objects:  20% (18/87)\u001b[K\rremote: Counting objects:  21% (19/87)\u001b[K\rremote: Counting objects:  22% (20/87)\u001b[K\rremote: Counting objects:  24% (21/87)\u001b[K\rremote: Counting objects:  25% (22/87)\u001b[K\rremote: Counting objects:  26% (23/87)\u001b[K\rremote: Counting objects:  27% (24/87)\u001b[K\rremote: Counting objects:  28% (25/87)\u001b[K\rremote: Counting objects:  29% (26/87)\u001b[K\rremote: Counting objects:  31% (27/87)\u001b[K\rremote: Counting objects:  32% (28/87)\u001b[K\rremote: Counting objects:  33% (29/87)\u001b[K\rremote: Counting objects:  34% (30/87)\u001b[K\rremote: Counting objects:  35% (31/87)\u001b[K\rremote: Counting objects:  36% (32/87)\u001b[K\rremote: Counting objects:  37% (33/87)\u001b[K\rremote: Counting objects:  39% (34/87)\u001b[K\rremote: Counting objects:  40% (35/87)\u001b[K\rremote: Counting objects:  41% (36/87)\u001b[K\rremote: Counting objects:  42% (37/87)\u001b[K\rremote: Counting objects:  43% (38/87)\u001b[K\rremote: Counting objects:  44% (39/87)\u001b[K\rremote: Counting objects:  45% (40/87)\u001b[K\rremote: Counting objects:  47% (41/87)\u001b[K\rremote: Counting objects:  48% (42/87)\u001b[K\rremote: Counting objects:  49% (43/87)\u001b[K\rremote: Counting objects:  50% (44/87)\u001b[K\rremote: Counting objects:  51% (45/87)\u001b[K\rremote: Counting objects:  52% (46/87)\u001b[K\rremote: Counting objects:  54% (47/87)\u001b[K\rremote: Counting objects:  55% (48/87)\u001b[K\rremote: Counting objects:  56% (49/87)\u001b[K\rremote: Counting objects:  57% (50/87)\u001b[K\rremote: Counting objects:  58% (51/87)\u001b[K\rremote: Counting objects:  59% (52/87)\u001b[K\rremote: Counting objects:  60% (53/87)\u001b[K\rremote: Counting objects:  62% (54/87)\u001b[K\rremote: Counting objects:  63% (55/87)\u001b[K\rremote: Counting objects:  64% (56/87)\u001b[K\rremote: Counting objects:  65% (57/87)\u001b[K\rremote: Counting objects:  66% (58/87)\u001b[K\rremote: Counting objects:  67% (59/87)\u001b[K\rremote: Counting objects:  68% (60/87)\u001b[K\rremote: Counting objects:  70% (61/87)\u001b[K\rremote: Counting objects:  71% (62/87)\u001b[K\rremote: Counting objects:  72% (63/87)\u001b[K\rremote: Counting objects:  73% (64/87)\u001b[K\rremote: Counting objects:  74% (65/87)\u001b[K\rremote: Counting objects:  75% (66/87)\u001b[K\rremote: Counting objects:  77% (67/87)\u001b[K\rremote: Counting objects:  78% (68/87)\u001b[K\rremote: Counting objects:  79% (69/87)\u001b[K\rremote: Counting objects:  80% (70/87)\u001b[K\rremote: Counting objects:  81% (71/87)\u001b[K\rremote: Counting objects:  82% (72/87)\u001b[K\rremote: Counting objects:  83% (73/87)\u001b[K\rremote: Counting objects:  85% (74/87)\u001b[K\rremote: Counting objects:  86% (75/87)\u001b[K\rremote: Counting objects:  87% (76/87)\u001b[K\rremote: Counting objects:  88% (77/87)\u001b[K\rremote: Counting objects:  89% (78/87)\u001b[K\rremote: Counting objects:  90% (79/87)\u001b[K\rremote: Counting objects:  91% (80/87)\u001b[K\rremote: Counting objects:  93% (81/87)\u001b[K\rremote: Counting objects:  94% (82/87)\u001b[K\rremote: Counting objects:  95% (83/87)\u001b[K\rremote: Counting objects:  96% (84/87)\u001b[K\rremote: Counting objects:  97% (85/87)\u001b[K\rremote: Counting objects:  98% (86/87)\u001b[K\rremote: Counting objects: 100% (87/87)\u001b[K\rremote: Counting objects: 100% (87/87), done.\u001b[K\n",
            "remote: Compressing objects: 100% (71/71), done.\u001b[K\n",
            "remote: Total 128 (delta 54), reused 33 (delta 15), pack-reused 41\u001b[K\n",
            "Receiving objects: 100% (128/128), 79.08 MiB | 30.37 MiB/s, done.\n",
            "Resolving deltas: 100% (60/60), done.\n",
            "/content/TFG\n"
          ],
          "name": "stdout"
        }
      ]
    },
    {
      "cell_type": "code",
      "metadata": {
        "id": "f1YD-wgycX9P",
        "colab_type": "code",
        "outputId": "313c2788-cce3-4cf1-9b58-9626bc2cfdad",
        "colab": {
          "base_uri": "https://localhost:8080/",
          "height": 34
        }
      },
      "source": [
        "%tensorflow_version 1.x"
      ],
      "execution_count": 2,
      "outputs": [
        {
          "output_type": "stream",
          "text": [
            "TensorFlow 1.x selected.\n"
          ],
          "name": "stdout"
        }
      ]
    },
    {
      "cell_type": "code",
      "metadata": {
        "id": "d6Qs_zdCcZS7",
        "colab_type": "code",
        "colab": {}
      },
      "source": [
        "from cifar10_models import *\n",
        "from utils import *\n",
        "from adversarial_attacks import *"
      ],
      "execution_count": 0,
      "outputs": []
    },
    {
      "cell_type": "code",
      "metadata": {
        "id": "Iq7UhHCkcpW9",
        "colab_type": "code",
        "colab": {}
      },
      "source": [
        "iv3 = inception_v3(pretrained=True)"
      ],
      "execution_count": 0,
      "outputs": []
    },
    {
      "cell_type": "code",
      "metadata": {
        "id": "7Ugar45Fcrmo",
        "colab_type": "code",
        "outputId": "0d8eae2f-7421-46fd-a70e-273491816b4a",
        "colab": {
          "base_uri": "https://localhost:8080/",
          "height": 34
        }
      },
      "source": [
        "# Define what device we are using\n",
        "use_cuda=True\n",
        "print(\"CUDA Available: \",torch.cuda.is_available())\n",
        "device = torch.device(\"cuda\" if (use_cuda and torch.cuda.is_available()) else \"cpu\")"
      ],
      "execution_count": 20,
      "outputs": [
        {
          "output_type": "stream",
          "text": [
            "CUDA Available:  True\n"
          ],
          "name": "stdout"
        }
      ]
    },
    {
      "cell_type": "code",
      "metadata": {
        "id": "_8pZ6UNBctah",
        "colab_type": "code",
        "outputId": "fdce7c63-7151-4b00-d0cb-8e2c7da700f7",
        "colab": {
          "base_uri": "https://localhost:8080/",
          "height": 84,
          "referenced_widgets": [
            "6fff3b8e4fd7402cb6854f52580acae6",
            "9ee949047762464cbd92f102eae48661",
            "ed431153ed3e4388a50abd4ae81058fd",
            "243dba882ad14b7b9dd98f4c1b781975",
            "63eef7288b654975aebb7fd939aa39c9",
            "e6fa5247dc174c3fa45fc8cfbd3b466f",
            "793072c4dda444aca0ae22af5a683b1c",
            "c29c2a2d4daa4d4fb0e13647f260d49b"
          ]
        }
      },
      "source": [
        "test_loader = testloader_cifar10('./data', 256)"
      ],
      "execution_count": 0,
      "outputs": [
        {
          "output_type": "stream",
          "text": [
            "Downloading https://www.cs.toronto.edu/~kriz/cifar-10-python.tar.gz to ./data/cifar-10-python.tar.gz\n"
          ],
          "name": "stdout"
        },
        {
          "output_type": "display_data",
          "data": {
            "application/vnd.jupyter.widget-view+json": {
              "model_id": "6fff3b8e4fd7402cb6854f52580acae6",
              "version_minor": 0,
              "version_major": 2
            },
            "text/plain": [
              "HBox(children=(IntProgress(value=1, bar_style='info', max=1), HTML(value='')))"
            ]
          },
          "metadata": {
            "tags": []
          }
        },
        {
          "output_type": "stream",
          "text": [
            "Extracting ./data/cifar-10-python.tar.gz to ./data\n"
          ],
          "name": "stdout"
        }
      ]
    },
    {
      "cell_type": "code",
      "metadata": {
        "id": "1JwdTaCecvpK",
        "colab_type": "code",
        "outputId": "60383166-675f-4056-86ee-90eef84871fd",
        "colab": {
          "base_uri": "https://localhost:8080/",
          "height": 52
        }
      },
      "source": [
        "test_model(iv3, device, test_loader)"
      ],
      "execution_count": 0,
      "outputs": [
        {
          "output_type": "stream",
          "text": [
            "100%|██████████| 40/40 [00:21<00:00,  1.83it/s]\n"
          ],
          "name": "stderr"
        },
        {
          "output_type": "execute_result",
          "data": {
            "text/plain": [
              "0.9541"
            ]
          },
          "metadata": {
            "tags": []
          },
          "execution_count": 8
        }
      ]
    },
    {
      "cell_type": "code",
      "metadata": {
        "id": "28VPsKJXcw4p",
        "colab_type": "code",
        "outputId": "2d374a02-e48c-4216-a741-5e33a9ce5a76",
        "colab": {
          "base_uri": "https://localhost:8080/",
          "height": 34
        }
      },
      "source": [
        "adv_loader = testloader_cifar10('./data', 1)"
      ],
      "execution_count": 21,
      "outputs": [
        {
          "output_type": "stream",
          "text": [
            "Files already downloaded and verified\n"
          ],
          "name": "stdout"
        }
      ]
    },
    {
      "cell_type": "code",
      "metadata": {
        "id": "AHUn30pJcyPK",
        "colab_type": "code",
        "colab": {}
      },
      "source": [
        "test_fgsm(iv3, device, './data/img1.png', 0.56)"
      ],
      "execution_count": 0,
      "outputs": []
    },
    {
      "cell_type": "code",
      "metadata": {
        "id": "vHSVmm2dc0NZ",
        "colab_type": "code",
        "colab": {}
      },
      "source": [
        "#params = {'epsilon': 0.4}\n",
        "params = {'num_classes': 10, 'overshoot': 0.02, 'max_iter': 50}\n",
        "adv_examples = attack_model(iv3, device, adv_loader, 'deepfool', params, iters=100)\n",
        "\n",
        "plt.imshow(denormalize_cifar10(adv_examples[0][2]).transpose((1,2,0)))\n",
        "plt.title('Original image -> ' + str(adv_examples[0][0]))\n",
        "plt.show()\n",
        "plt.imshow(denormalize_cifar10(adv_examples[0][3]).transpose((1,2,0)))\n",
        "plt.title('Adversarial image -> ' + str(adv_examples[0][1]))\n",
        "plt.show()"
      ],
      "execution_count": 0,
      "outputs": []
    },
    {
      "cell_type": "code",
      "metadata": {
        "id": "0I0qERD8yPZN",
        "colab_type": "code",
        "colab": {}
      },
      "source": [
        "def attack_model(model, device, test_loader, method, params, iters=10000):\n",
        "\n",
        "  # Initialize the network and set the model in evaluation mode.\n",
        "  model = model.to(device).eval()\n",
        "\n",
        "  # Stat counters\n",
        "  correct = 0\n",
        "  confidence = 0\n",
        "  total_time = 0\n",
        "  ex_robustness = 0\n",
        "  model_robustness = 0\n",
        "  adv_examples = []\n",
        "\n",
        "  i = 0\n",
        "\n",
        "  # Loop (iters) examples in test set\n",
        "  for data, target in pbar(test_loader):\n",
        "    if i >= iters:\n",
        "      break\n",
        "    i += 1\n",
        "\n",
        "    # Send the data and label to the device\n",
        "    data, target = data.to(device), target.to(device)\n",
        "\n",
        "    # Set requires_grad attribute of tensor. Important for Attack\n",
        "    if method in ['fgsm', 'deepfool']:\n",
        "        data.requires_grad = True\n",
        "\n",
        "    # Forward pass the data through the model\n",
        "    output = model(data)\n",
        "    init_pred = output.max(1, keepdim=True)[1] # get the index of the max log-probability\n",
        "\n",
        "    # If the initial prediction is wrong, dont botter attacking\n",
        "    if init_pred.item() != target.item():\n",
        "      continue\n",
        "\n",
        "    if method == 'fgsm':\n",
        "        # Call FGSM attack\n",
        "        time_ini = time.time()\n",
        "        perturbed_data = fgsm(model, data, params[\"epsilon\"], output, target)\n",
        "        time_end = time.time()\n",
        "        total_time += time_end-time_ini\n",
        "      \n",
        "    elif method == 'deepfool':\n",
        "        # Call DeepFool attack\n",
        "        time_ini = time.time()\n",
        "        perturbed_data = deepfool(model, device, data, target.item(), output, params[\"num_classes\"], params[\"overshoot\"], params[\"max_iter\"])\n",
        "        time_end = time.time()\n",
        "        total_time += time_end-time_ini\n",
        "\n",
        "    # Update model robustness\n",
        "    p_norm = 2\n",
        "    im_np = data.squeeze().detach().cpu().numpy()\n",
        "    adv_ex = perturbed_data.squeeze().detach().cpu().numpy()\n",
        "    delta = np.linalg.norm((adv_ex - im_np).flatten(), ord=p_norm)\n",
        "    ex_robustness += delta\n",
        "    model_robustness += delta / np.linalg.norm(im_np.flatten(), ord=p_norm)\n",
        "\n",
        "    # Re-classify the perturbed image\n",
        "    output = model(perturbed_data)\n",
        "\n",
        "    # Check for success\n",
        "    final_pred = output.max(1, keepdim=True)[1] # get the index of the max log-probability\n",
        "    confidence += F.softmax(output, dim=1).max(1, keepdim=True)[0].item()  # adv. confidence\n",
        "    if final_pred.item() == target.item():\n",
        "      correct += 1\n",
        "    else:\n",
        "      # Save some adv examples for visualization later\n",
        "      if len(adv_examples) < 5:\n",
        "        adv_examples.append( (init_pred.item(), final_pred.item(), im_np, adv_ex) )\n",
        "\n",
        "  # Calculate stats\n",
        "  final_acc = correct / float(iters)  # len(test_loader)\n",
        "  avg_confidence = confidence / float(iters)\n",
        "  avg_time = total_time / float(iters)\n",
        "  avg_ex_robustness = ex_robustness / float(iters)\n",
        "  model_robustness = model_robustness / float(iters)\n",
        "  print(\"\\n======== RESULTS ========\")\n",
        "  print(\"Test Accuracy = {} / {} = {}\\nAverage confidence = {}\\nAverage time = {}\\nAverage magnitude of perturbations = {}\\nModel robustness = {}\"\n",
        "    .format(correct, iters, final_acc, avg_confidence, avg_time, avg_ex_robustness, model_robustness))\n",
        "\n",
        "  # Return adversarial examples\n",
        "  return adv_examples"
      ],
      "execution_count": 0,
      "outputs": []
    }
  ]
}