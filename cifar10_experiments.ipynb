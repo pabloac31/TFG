{
  "nbformat": 4,
  "nbformat_minor": 0,
  "metadata": {
    "colab": {
      "name": "cifar10_experiments.ipynb",
      "provenance": [],
      "authorship_tag": "ABX9TyP3gOqyFpF5lNt0QRP55h3M",
      "include_colab_link": true
    },
    "kernelspec": {
      "name": "python3",
      "display_name": "Python 3"
    },
    "accelerator": "GPU"
  },
  "cells": [
    {
      "cell_type": "markdown",
      "metadata": {
        "id": "view-in-github",
        "colab_type": "text"
      },
      "source": [
        "<a href=\"https://colab.research.google.com/github/pabloac31/TFG/blob/master/cifar10_experiments.ipynb\" target=\"_parent\"><img src=\"https://colab.research.google.com/assets/colab-badge.svg\" alt=\"Open In Colab\"/></a>"
      ]
    },
    {
      "cell_type": "code",
      "metadata": {
        "id": "n6ctRAXTcHH2",
        "colab_type": "code",
        "outputId": "07454f81-7472-43bc-fd00-8f1cf5e5d46a",
        "colab": {
          "base_uri": "https://localhost:8080/",
          "height": 34
        }
      },
      "source": [
        "! git clone https://github.com/pabloac31/TFG.git\n",
        "%cd TFG"
      ],
      "execution_count": 1,
      "outputs": [
        {
          "output_type": "stream",
          "text": [
            "/content/TFG\n"
          ],
          "name": "stdout"
        }
      ]
    },
    {
      "cell_type": "code",
      "metadata": {
        "id": "f1YD-wgycX9P",
        "colab_type": "code",
        "outputId": "bee536c9-6414-4870-afc5-73b3f6a9e5c4",
        "colab": {
          "base_uri": "https://localhost:8080/",
          "height": 34
        }
      },
      "source": [
        "%tensorflow_version 1.x"
      ],
      "execution_count": 2,
      "outputs": [
        {
          "output_type": "stream",
          "text": [
            "TensorFlow 1.x selected.\n"
          ],
          "name": "stdout"
        }
      ]
    },
    {
      "cell_type": "code",
      "metadata": {
        "id": "d6Qs_zdCcZS7",
        "colab_type": "code",
        "colab": {}
      },
      "source": [
        "from cifar10_models import *\n",
        "from utils import *\n",
        "from adversarial_attacks import *"
      ],
      "execution_count": 0,
      "outputs": []
    },
    {
      "cell_type": "code",
      "metadata": {
        "id": "Iq7UhHCkcpW9",
        "colab_type": "code",
        "colab": {}
      },
      "source": [
        "iv3 = inception_v3(pretrained=True)"
      ],
      "execution_count": 0,
      "outputs": []
    },
    {
      "cell_type": "code",
      "metadata": {
        "id": "7Ugar45Fcrmo",
        "colab_type": "code",
        "outputId": "80e7c3dd-be8c-4a89-de1f-59ce27505fcd",
        "colab": {
          "base_uri": "https://localhost:8080/",
          "height": 34
        }
      },
      "source": [
        "# Define what device we are using\n",
        "use_cuda=True\n",
        "print(\"CUDA Available: \",torch.cuda.is_available())\n",
        "device = torch.device(\"cuda\" if (use_cuda and torch.cuda.is_available()) else \"cpu\")"
      ],
      "execution_count": 5,
      "outputs": [
        {
          "output_type": "stream",
          "text": [
            "CUDA Available:  True\n"
          ],
          "name": "stdout"
        }
      ]
    },
    {
      "cell_type": "code",
      "metadata": {
        "id": "_8pZ6UNBctah",
        "colab_type": "code",
        "outputId": "7c5510d4-fb50-4eb9-f83f-612be278bc1c",
        "colab": {
          "base_uri": "https://localhost:8080/",
          "height": 34
        }
      },
      "source": [
        "test_loader = testloader_cifar10('./data', 256, shuffle=False)"
      ],
      "execution_count": 0,
      "outputs": [
        {
          "output_type": "stream",
          "text": [
            "Files already downloaded and verified\n"
          ],
          "name": "stdout"
        }
      ]
    },
    {
      "cell_type": "code",
      "metadata": {
        "id": "1JwdTaCecvpK",
        "colab_type": "code",
        "outputId": "60383166-675f-4056-86ee-90eef84871fd",
        "colab": {
          "base_uri": "https://localhost:8080/",
          "height": 52
        }
      },
      "source": [
        "test_model(iv3, device, test_loader)"
      ],
      "execution_count": 0,
      "outputs": [
        {
          "output_type": "stream",
          "text": [
            "100%|██████████| 40/40 [00:21<00:00,  1.83it/s]\n"
          ],
          "name": "stderr"
        },
        {
          "output_type": "execute_result",
          "data": {
            "text/plain": [
              "0.9541"
            ]
          },
          "metadata": {
            "tags": []
          },
          "execution_count": 8
        }
      ]
    },
    {
      "cell_type": "code",
      "metadata": {
        "id": "28VPsKJXcw4p",
        "colab_type": "code",
        "outputId": "3cc5aa05-549d-475b-c0c5-7c2129a47c42",
        "colab": {
          "base_uri": "https://localhost:8080/",
          "height": 52
        }
      },
      "source": [
        "adv_loader = testloader_cifar10('./data', 1)\n",
        "univ_loader = testloader_cifar10('./data', 1, shuffle=False)"
      ],
      "execution_count": 6,
      "outputs": [
        {
          "output_type": "stream",
          "text": [
            "Files already downloaded and verified\n",
            "Files already downloaded and verified\n"
          ],
          "name": "stdout"
        }
      ]
    },
    {
      "cell_type": "code",
      "metadata": {
        "id": "AHUn30pJcyPK",
        "colab_type": "code",
        "colab": {}
      },
      "source": [
        "test_fgsm(iv3, device, './data/img1.png', 0.56)"
      ],
      "execution_count": 0,
      "outputs": []
    },
    {
      "cell_type": "code",
      "metadata": {
        "id": "vHSVmm2dc0NZ",
        "colab_type": "code",
        "colab": {
          "base_uri": "https://localhost:8080/",
          "height": 684
        },
        "outputId": "851c0755-b064-4a96-ef41-e0e0f5de9751"
      },
      "source": [
        "#params = {'epsilon': 0.4}\n",
        "#params = {'num_classes': 10, 'overshoot': 0.02, 'max_iter': 50, 'lambda_fac': 1.0}\n",
        "params = {'lambda_': 3., 'max_iter': 20, 'epsilon': 0.2, 'delta': 255}\n",
        "adv_examples = attack_model(iv3, device, adv_loader, 'sparsefool', params, iters=1)\n",
        "\n",
        "plt.imshow(denormalize_cifar10(adv_examples[0][2]).transpose((1,2,0)))\n",
        "plt.title('Original image -> ' + str(adv_examples[0][0]))\n",
        "plt.show()\n",
        "plt.imshow(denormalize_cifar10(adv_examples[0][3]).transpose((1,2,0)))\n",
        "plt.title('Adversarial image -> ' + str(adv_examples[0][1]))\n",
        "plt.show()"
      ],
      "execution_count": 7,
      "outputs": [
        {
          "output_type": "stream",
          "text": [
            "  0%|          | 1/10000 [00:06<17:09:32,  6.18s/it]"
          ],
          "name": "stderr"
        },
        {
          "output_type": "stream",
          "text": [
            "\n",
            "======== RESULTS ========\n",
            "Test Accuracy = 0 / 1 = 0.0\n",
            "Average confidence = 0.7797232866287231\n",
            "Average time = 5.761559963226318\n",
            "Average magnitude of perturbations = 5.798830986022949\n",
            "Model robustness = 0.07007209211587906\n"
          ],
          "name": "stdout"
        },
        {
          "output_type": "stream",
          "text": [
            "\n"
          ],
          "name": "stderr"
        },
        {
          "output_type": "display_data",
          "data": {
            "image/png": "[encoded data removed]",
            "text/plain": [
              "<Figure size 432x288 with 1 Axes>"
            ]
          },
          "metadata": {
            "tags": []
          }
        },
        {
          "output_type": "display_data",
          "data": {
            "image/png": "[encoded data removed]",
            "text/plain": [
              "<Figure size 432x288 with 1 Axes>"
            ]
          },
          "metadata": {
            "tags": []
          }
        }
      ]
    },
    {
      "cell_type": "code",
      "metadata": {
        "id": "xseEdeDnHlGM",
        "colab_type": "code",
        "colab": {}
      },
      "source": [
        "v = universal_perturbation(univ_loader, iv3, device, delta=0.1)\n",
        "\n",
        "plt.imshow(denormalize_cifar10(v[0].cpu().detach().numpy()).transpose((1,2,0)))\n",
        "plt.title('Universal perturbation')\n",
        "plt.show()"
      ],
      "execution_count": 0,
      "outputs": []
    },
    {
      "cell_type": "code",
      "metadata": {
        "id": "TTnsNwRMmxWt",
        "colab_type": "code",
        "outputId": "de85220c-075a-412b-9379-2359bd7132c0",
        "colab": {
          "base_uri": "https://localhost:8080/",
          "height": 69
        }
      },
      "source": [
        "image = Image.open('./data/img1.png')\n",
        "x = TF.to_tensor(image)\n",
        "x = normalize_cifar10(x)\n",
        "x = x.unsqueeze_(0).to(device)\n",
        "label = torch.tensor([1]).to(device)\n",
        "print('Label:', label.item())\n",
        "x.requires_grad = True\n",
        "y = iv3(x)\n",
        "init_pred = y.max(1, keepdim=True)[1]\n",
        "print(\"Original image prediction: \", init_pred.item())\n",
        "x_r = x.add(v).to(device)\n",
        "pred = iv3(x_r).max(1, keepdim=True)[1]\n",
        "print(\"Perturbed image prediction: \", pred.item())"
      ],
      "execution_count": 0,
      "outputs": [
        {
          "output_type": "stream",
          "text": [
            "Label: 1\n",
            "Original image prediction:  1\n",
            "Perturbed image prediction:  2\n"
          ],
          "name": "stdout"
        }
      ]
    },
    {
      "cell_type": "code",
      "metadata": {
        "id": "UHZOyLnBc3d4",
        "colab_type": "code",
        "colab": {}
      },
      "source": [
        "def perturb(p, img):\n",
        "  # Elements of p should be in range [0,1]\n",
        "  img_size = img.size(2)  # H (= W)\n",
        "  p_img = img.clone()\n",
        "  xy = (p[0:2].copy() * img_size).astype(int)  # pixel x-y coordinates\n",
        "  xy = np.clip(xy, 0, img_size-1)\n",
        "  rgb = normalize_cifar10(p[2:5]).copy()\n",
        "  rgb = clip_image_values(torch.from_numpy(rgb), normalize_cifar10(torch.tensor([0.,0.,0.], dtype=torch.double)), normalize_cifar10(torch.tensor([1.,1.,1.], dtype=torch.double)))\n",
        "  p_img[0,:,xy[0],xy[1]] = rgb\n",
        "  return p_img"
      ],
      "execution_count": 0,
      "outputs": []
    },
    {
      "cell_type": "code",
      "metadata": {
        "id": "jTWF1fjlw_8h",
        "colab_type": "code",
        "colab": {}
      },
      "source": [
        "def evaluate(model, device, candidates, img, label):\n",
        "  preds = []\n",
        "  model = model.to(device).eval()\n",
        "  with torch.no_grad():\n",
        "    for i, xs in enumerate(candidates):\n",
        "      p_img = perturb(xs, img).to(device)\n",
        "      preds.append(F.softmax(model(p_img).squeeze(), dim=0)[label].item())\n",
        "  return np.array(preds)"
      ],
      "execution_count": 0,
      "outputs": []
    },
    {
      "cell_type": "code",
      "metadata": {
        "id": "B53vcylmzIeA",
        "colab_type": "code",
        "colab": {}
      },
      "source": [
        "def evolve(candidates, F=0.5, strategy=\"clip\"):\n",
        "  gen2 = candidates.copy()\n",
        "  num_candidates = len(candidates)\n",
        "  for i in range(num_candidates):\n",
        "    x1, x2, x3 = candidates[np.random.choice(num_candidates, 3, replace=False)]\n",
        "    x_next = (x1 + F * (x2 - x3))\n",
        "    if strategy == \"clip\":\n",
        "        gen2[i] = np.clip(x_next, 0, 1)\n",
        "    elif strategy == \"resample\":\n",
        "        x_oob = np.logical_or((x_next < 0), (1 < x_next))\n",
        "        x_next[x_oob] = np.random.random(5)[x_oob]\n",
        "        gen2[i] = x_next\n",
        "  return gen2"
      ],
      "execution_count": 0,
      "outputs": []
    },
    {
      "cell_type": "code",
      "metadata": {
        "id": "hpk0Mw6p1Yxx",
        "colab_type": "code",
        "colab": {}
      },
      "source": [
        "def one_pixel_attack(model, device, img, label, target_label=None, iters=100, pop_size=400, verbose=True):\n",
        "  # Targeted: maximize target_label if given (early stop > 50%)\n",
        "  # Untargeted: minimize true_label otherwise (early stop < 5%)\n",
        "  candidates = np.random.random((pop_size,5))\n",
        "  candidates[:,2:5] = np.clip(np.random.normal(0.5, 0.5, (pop_size, 3)), 0, 1)\n",
        "  is_targeted = target_label is not None\n",
        "  label = target_label if is_targeted else label\n",
        "  fitness = evaluate(model, device, candidates, img, label)\n",
        "  \n",
        "  def is_success():\n",
        "      return (is_targeted and fitness.max() > 0.5) or ((not is_targeted) and fitness.min() < 0.05)\n",
        "  \n",
        "  for iteration in range(iters):\n",
        "      # Early Stopping\n",
        "      if is_success():\n",
        "          break\n",
        "      if verbose and iteration%1 == 0: # Print progress\n",
        "          print(\"Target Probability [Iteration {}]:\".format(iteration), fitness.max() if is_targeted else fitness.min())\n",
        "      # Generate new candidate solutions\n",
        "      new_gen_candidates = evolve(candidates, strategy=\"resample\")\n",
        "      # Evaluate new solutions\n",
        "      new_gen_fitness = evaluate(model, device, new_gen_candidates, img, label)\n",
        "      # Replace old solutions with new ones where they are better\n",
        "      successors = new_gen_fitness > fitness if is_targeted else new_gen_fitness < fitness\n",
        "      candidates[successors] = new_gen_candidates[successors]\n",
        "      fitness[successors] = new_gen_fitness[successors]\n",
        "  best_idx = fitness.argmax() if is_targeted else fitness.argmin()\n",
        "  best_solution = candidates[best_idx]\n",
        "  best_score = fitness[best_idx]\n",
        "\n",
        "  return is_success(), best_solution, best_score\n"
      ],
      "execution_count": 0,
      "outputs": []
    },
    {
      "cell_type": "code",
      "metadata": {
        "id": "ZoSdwQ1ne1mA",
        "colab_type": "code",
        "colab": {
          "base_uri": "https://localhost:8080/",
          "height": 584
        },
        "outputId": "727e0856-d05e-4860-92ad-e6873f904b50"
      },
      "source": [
        "img, label = next(iter(adv_loader))\n",
        "im = denormalize_cifar10(img.numpy()[0].copy()).transpose((1,2,0))\n",
        "plt.imshow(im)\n",
        "plt.show()\n",
        "label = label.item()\n",
        "success, sol, score = one_pixel_attack(iv3, device, img, label, pop_size=400, iters=20)\n",
        "print(success)\n",
        "print(score)\n",
        "adv = perturb(sol, img)\n",
        "im = denormalize_cifar10(adv.numpy()[0].copy()).transpose((1,2,0))\n",
        "plt.imshow(im)\n",
        "plt.show()"
      ],
      "execution_count": 54,
      "outputs": [
        {
          "output_type": "stream",
          "text": [
            "Clipping input data to the valid range for imshow with RGB data ([0..1] for floats or [0..255] for integers).\n"
          ],
          "name": "stderr"
        },
        {
          "output_type": "display_data",
          "data": {
            "image/png": "[encoded data removed]",
            "text/plain": [
              "<Figure size 432x288 with 1 Axes>"
            ]
          },
          "metadata": {
            "tags": []
          }
        },
        {
          "output_type": "stream",
          "text": [
            "Clipping input data to the valid range for imshow with RGB data ([0..1] for floats or [0..255] for integers).\n"
          ],
          "name": "stderr"
        },
        {
          "output_type": "stream",
          "text": [
            "True\n",
            "0.012006991542875767\n"
          ],
          "name": "stdout"
        },
        {
          "output_type": "display_data",
          "data": {
            "image/png": "[encoded data removed]",
            "text/plain": [
              "<Figure size 432x288 with 1 Axes>"
            ]
          },
          "metadata": {
            "tags": []
          }
        }
      ]
    }
  ]
}