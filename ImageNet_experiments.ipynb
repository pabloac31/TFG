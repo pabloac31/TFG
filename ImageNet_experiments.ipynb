{
  "nbformat": 4,
  "nbformat_minor": 0,
  "metadata": {
    "colab": {
      "name": "ImageNet_experiments.ipynb",
      "provenance": [],
      "authorship_tag": "ABX9TyPC4L2Rt+MlnaibELfC1UAk",
      "include_colab_link": true
    },
    "kernelspec": {
      "name": "python3",
      "display_name": "Python 3"
    },
    "accelerator": "GPU"
  },
  "cells": [
    {
      "cell_type": "markdown",
      "metadata": {
        "id": "view-in-github",
        "colab_type": "text"
      },
      "source": [
        "<a href=\"https://colab.research.google.com/github/pabloac31/TFG/blob/master/ImageNet_experiments.ipynb\" target=\"_parent\"><img src=\"https://colab.research.google.com/assets/colab-badge.svg\" alt=\"Open In Colab\"/></a>"
      ]
    },
    {
      "cell_type": "code",
      "metadata": {
        "id": "rENtEAPI6u_o",
        "colab_type": "code",
        "outputId": "ac16c2df-abe7-4ebe-8ee8-3479e097801a",
        "colab": {
          "base_uri": "https://localhost:8080/",
          "height": 173
        }
      },
      "source": [
        "! git clone https://github.com/pabloac31/TFG.git\n",
        "%cd TFG"
      ],
      "execution_count": 1,
      "outputs": [
        {
          "output_type": "stream",
          "text": [
            "Cloning into 'TFG'...\n",
            "remote: Enumerating objects: 70, done.\u001b[K\n",
            "remote: Counting objects: 100% (70/70), done.\u001b[K\n",
            "remote: Compressing objects: 100% (62/62), done.\u001b[K\n",
            "remote: Total 253 (delta 41), reused 17 (delta 8), pack-reused 183\u001b[K\n",
            "Receiving objects: 100% (253/253), 217.42 MiB | 11.79 MiB/s, done.\n",
            "Resolving deltas: 100% (134/134), done.\n",
            "Checking out files: 100% (30/30), done.\n",
            "/content/TFG\n"
          ],
          "name": "stdout"
        }
      ]
    },
    {
      "cell_type": "code",
      "metadata": {
        "id": "qV2ZPr7K61xf",
        "colab_type": "code",
        "outputId": "268e9440-09c6-4780-e08d-76d3328a43f7",
        "colab": {
          "base_uri": "https://localhost:8080/",
          "height": 34
        }
      },
      "source": [
        "%tensorflow_version 1.x"
      ],
      "execution_count": 2,
      "outputs": [
        {
          "output_type": "stream",
          "text": [
            "TensorFlow 1.x selected.\n"
          ],
          "name": "stdout"
        }
      ]
    },
    {
      "cell_type": "code",
      "metadata": {
        "id": "CFDqlgIC64mN",
        "colab_type": "code",
        "colab": {}
      },
      "source": [
        "from utils import *\n",
        "from adversarial_attacks import *\n",
        "import torchvision.models as models\n",
        "import json"
      ],
      "execution_count": 0,
      "outputs": []
    },
    {
      "cell_type": "code",
      "metadata": {
        "id": "1JzQdARl9sA0",
        "colab_type": "code",
        "outputId": "b343319c-3dad-4ac0-aa70-422bb513b2e7",
        "colab": {
          "base_uri": "https://localhost:8080/",
          "height": 34
        }
      },
      "source": [
        "# Define what device we are using\n",
        "use_cuda=True\n",
        "print(\"CUDA Available: \",torch.cuda.is_available())\n",
        "device = torch.device(\"cuda\" if (use_cuda and torch.cuda.is_available()) else \"cpu\")"
      ],
      "execution_count": 3,
      "outputs": [
        {
          "output_type": "stream",
          "text": [
            "CUDA Available:  True\n"
          ],
          "name": "stdout"
        }
      ]
    },
    {
      "cell_type": "code",
      "metadata": {
        "id": "YQH5_4Nwvs4g",
        "colab_type": "code",
        "colab": {}
      },
      "source": [
        "class_idx = json.load(open(\"imagenet_class_index.json\"))"
      ],
      "execution_count": 0,
      "outputs": []
    },
    {
      "cell_type": "code",
      "metadata": {
        "id": "XKghvtPm7xi_",
        "colab_type": "code",
        "colab": {}
      },
      "source": [
        "model = models.resnet50(pretrained=True)"
      ],
      "execution_count": 0,
      "outputs": []
    },
    {
      "cell_type": "code",
      "metadata": {
        "id": "z5rRfdoU-HCv",
        "colab_type": "code",
        "colab": {}
      },
      "source": [
        "def image_loader(img_name):\n",
        "  \"\"\"load image, returns CUDA tensor\"\"\"\n",
        "  transform = transforms.Compose([\n",
        "    transforms.Resize(256),\n",
        "    transforms.CenterCrop(224),\n",
        "    transforms.ToTensor(),\n",
        "    transforms.Normalize(mean=[0.485, 0.456, 0.406], std=[0.229, 0.224, 0.225]),\n",
        "  ])\n",
        "\n",
        "  img = Image.open(img_name)\n",
        "\n",
        "  return transform(img)"
      ],
      "execution_count": 0,
      "outputs": []
    },
    {
      "cell_type": "code",
      "metadata": {
        "id": "AK5NHOIuAxlT",
        "colab_type": "code",
        "colab": {}
      },
      "source": [
        "img = torch.unsqueeze(image_loader('data/panda.jpg'), dim=0)"
      ],
      "execution_count": 0,
      "outputs": []
    },
    {
      "cell_type": "code",
      "metadata": {
        "id": "1sSG3tvsxs9H",
        "colab_type": "code",
        "colab": {
          "base_uri": "https://localhost:8080/",
          "height": 34
        },
        "outputId": "248ee3a6-4ecd-45c5-bcef-84924dd244b7"
      },
      "source": [
        "model.eval()\n",
        "img.requires_grad = True\n",
        "\n",
        "output = model(img)\n",
        "pred = output.max(1, keepdim=True)[1]\n",
        "print('Input image classified as', class_idx[str(pred.item())][1], end='')\n",
        "percentage = torch.nn.functional.softmax(output, dim=1)[0] * 100\n",
        "print(' with a {:.2f}% confidence'.format(percentage[pred].item()))"
      ],
      "execution_count": 86,
      "outputs": [
        {
          "output_type": "stream",
          "text": [
            "Input image classified as giant_panda with a 99.68% confidence\n"
          ],
          "name": "stdout"
        }
      ]
    },
    {
      "cell_type": "code",
      "metadata": {
        "id": "dA6e9tAj2coI",
        "colab_type": "code",
        "colab": {}
      },
      "source": [
        "adv_x, pert_x = fgsm(model, img, label, output, epsilon=0.1, clip=True)"
      ],
      "execution_count": 0,
      "outputs": []
    },
    {
      "cell_type": "code",
      "metadata": {
        "id": "UY_j_LPq8f1C",
        "colab_type": "code",
        "colab": {
          "base_uri": "https://localhost:8080/",
          "height": 34
        },
        "outputId": "9198c8c3-60e0-418e-9ebb-15aaa8fc9073"
      },
      "source": [
        "output = model(adv_x)\n",
        "pred = output.max(1, keepdim=True)[1]\n",
        "print('Adversarial image classified as', class_idx[str(pred.item())][1], end='')\n",
        "percentage = torch.nn.functional.softmax(output, dim=1)[0] * 100\n",
        "print(' with a {:.2f}% confidence'.format(percentage[pred].item()))"
      ],
      "execution_count": 88,
      "outputs": [
        {
          "output_type": "stream",
          "text": [
            "Adversarial image classified as giant_panda with a 79.02% confidence\n"
          ],
          "name": "stdout"
        }
      ]
    }
  ]
}