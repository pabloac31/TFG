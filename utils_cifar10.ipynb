{
  "nbformat": 4,
  "nbformat_minor": 0,
  "metadata": {
    "colab": {
      "name": "utils_cifar10.ipynb",
      "provenance": [],
      "authorship_tag": "ABX9TyNgGwG0R/xmaZ2KZ63e/WQq",
      "include_colab_link": true
    },
    "kernelspec": {
      "name": "python3",
      "display_name": "Python 3"
    },
    "accelerator": "GPU"
  },
  "cells": [
    {
      "cell_type": "markdown",
      "metadata": {
        "id": "view-in-github",
        "colab_type": "text"
      },
      "source": [
        "<a href=\"https://colab.research.google.com/github/pabloac31/TFG/blob/master/utils_cifar10.ipynb\" target=\"_parent\"><img src=\"https://colab.research.google.com/assets/colab-badge.svg\" alt=\"Open In Colab\"/></a>"
      ]
    },
    {
      "cell_type": "code",
      "metadata": {
        "id": "wnfXnmT-grg6",
        "colab_type": "code",
        "colab": {
          "base_uri": "https://localhost:8080/",
          "height": 173
        },
        "outputId": "ce9af82b-bd4e-4f15-f9b2-6a230a95fd73"
      },
      "source": [
        "! pip install import_ipynb"
      ],
      "execution_count": 6,
      "outputs": [
        {
          "output_type": "stream",
          "text": [
            "Collecting import_ipynb\n",
            "  Downloading https://files.pythonhosted.org/packages/63/35/495e0021bfdcc924c7cdec4e9fbb87c88dd03b9b9b22419444dc370c8a45/import-ipynb-0.1.3.tar.gz\n",
            "Building wheels for collected packages: import-ipynb\n",
            "  Building wheel for import-ipynb (setup.py) ... \u001b[?25l\u001b[?25hdone\n",
            "  Created wheel for import-ipynb: filename=import_ipynb-0.1.3-cp36-none-any.whl size=2976 sha256=d780243c34456955fa5e6fb870c8674217127ff4286069362206d3c550228b20\n",
            "  Stored in directory: /root/.cache/pip/wheels/b4/7b/e9/a3a6e496115dffdb4e3085d0ae39ffe8a814eacc44bbf494b5\n",
            "Successfully built import-ipynb\n",
            "Installing collected packages: import-ipynb\n",
            "Successfully installed import-ipynb-0.1.3\n"
          ],
          "name": "stdout"
        }
      ]
    },
    {
      "cell_type": "code",
      "metadata": {
        "id": "p-LcW19NbOp-",
        "colab_type": "code",
        "colab": {
          "base_uri": "https://localhost:8080/",
          "height": 341
        },
        "outputId": "befc8385-7e93-4b16-f511-762d12a35df1"
      },
      "source": [
        "from __future__ import print_function\n",
        "import torch\n",
        "import torch.nn as nn\n",
        "import torch.nn.functional as F\n",
        "import torch.optim as optim\n",
        "from torchvision import datasets, transforms\n",
        "import numpy as np\n",
        "import matplotlib.pyplot as plt\n",
        "\n",
        "import import_ipynb\n",
        "from adversarial_methods import *"
      ],
      "execution_count": 8,
      "outputs": [
        {
          "output_type": "error",
          "ename": "ModuleNotFoundError",
          "evalue": "ignored",
          "traceback": [
            "\u001b[0;31m---------------------------------------------------------------------------\u001b[0m",
            "\u001b[0;31mModuleNotFoundError\u001b[0m                       Traceback (most recent call last)",
            "\u001b[0;32m<ipython-input-8-903c05f304a5>\u001b[0m in \u001b[0;36m<module>\u001b[0;34m()\u001b[0m\n\u001b[1;32m      9\u001b[0m \u001b[0;34m\u001b[0m\u001b[0m\n\u001b[1;32m     10\u001b[0m \u001b[0;32mimport\u001b[0m \u001b[0mimport_ipynb\u001b[0m\u001b[0;34m\u001b[0m\u001b[0;34m\u001b[0m\u001b[0m\n\u001b[0;32m---> 11\u001b[0;31m \u001b[0;32mfrom\u001b[0m \u001b[0madversarial_methods\u001b[0m \u001b[0;32mimport\u001b[0m \u001b[0;34m*\u001b[0m\u001b[0;34m\u001b[0m\u001b[0;34m\u001b[0m\u001b[0m\n\u001b[0m",
            "\u001b[0;31mModuleNotFoundError\u001b[0m: No module named 'adversarial_methods'",
            "",
            "\u001b[0;31m---------------------------------------------------------------------------\u001b[0;32m\nNOTE: If your import is failing due to a missing package, you can\nmanually install dependencies using either !pip or !apt.\n\nTo view examples of installing some common dependencies, click the\n\"Open Examples\" button below.\n\u001b[0;31m---------------------------------------------------------------------------\u001b[0m\n"
          ]
        }
      ]
    },
    {
      "cell_type": "code",
      "metadata": {
        "id": "sKuTGlxlbv9e",
        "colab_type": "code",
        "colab": {}
      },
      "source": [
        "def cifar10_dataloader(path):\n",
        "  transform = transforms.Compose([transforms.ToTensor(),\n",
        "      transforms.Normalize([0.4914, 0.4822, 0.4465], [0.2023, 0.1994, 0.2010])])\n",
        "\n",
        "  test_loader = torch.utils.data.DataLoader(\n",
        "      datasets.CIFAR10(root=path, train=False, transform=transform, download=True),\n",
        "      batch_size=1, shuffle=False\n",
        "  )\n",
        "\n",
        "  return test_loader"
      ],
      "execution_count": 0,
      "outputs": []
    },
    {
      "cell_type": "code",
      "metadata": {
        "id": "mQWoF_9ccTDs",
        "colab_type": "code",
        "colab": {}
      },
      "source": [
        "def test_model(model, device, test_loader, epsilon):\n",
        "\n",
        "  # Initialize the network and set the model in evaluation mode. \n",
        "  model = model.to(device).eval()\n",
        "\n",
        "  # Accuracy counter\n",
        "  correct = 0\n",
        "  misclassified = 0  # without the adversarial attack\n",
        "  adv_examples = []\n",
        "\n",
        "  # Loop all examples in test set\n",
        "  for data, target in test_loader:\n",
        "\n",
        "    # Send the data and label to the device\n",
        "    data, target = data.to(device), target.to(device)\n",
        "\n",
        "    # Set requires_grad attribute of tensor. Important for Attack\n",
        "    data.requires_grad = True\n",
        "\n",
        "    # Forward pass the data through the model\n",
        "    output = model(data)\n",
        "    init_pred = output.max(1, keepdim=True)[1] # get the index of the max log-probability\n",
        "\n",
        "    # If the initial prediction is wrong, dont botter attacking\n",
        "    if init_pred.item() != target.item():\n",
        "      misclassified += 1\n",
        "      continue\n",
        "\n",
        "    # Calculate the loss\n",
        "    loss = F.nll_loss(output, target)\n",
        "\n",
        "    # Zero all existing gradients\n",
        "    model.zero_grad()\n",
        "\n",
        "    # Calculate gradients of model in backward pass\n",
        "    loss.backward()\n",
        "\n",
        "    # Collect datagrad\n",
        "    data_grad = data.grad.data\n",
        "\n",
        "    # Call FGSM attack\n",
        "    perturbed_data = fgsm(data, epsilon, data_grad)\n",
        "\n",
        "    # Re-classify the perturbed image\n",
        "    output = model(perturbed_data)\n",
        "\n",
        "    # Check for success\n",
        "    final_pred = output.max(1, keepdim=True)[1] # get the index of the max log-probability\n",
        "    if final_pred.item() == target.item():\n",
        "      correct += 1\n",
        "      # Special case for saving 0 epsilon examples\n",
        "      if (epsilon == 0) and (len(adv_examples) < 5):\n",
        "        adv_ex = perturbed_data.squeeze().detach().cpu().numpy()\n",
        "        adv_examples.append( (init_pred.item(), final_pred.item(), adv_ex) )\n",
        "\n",
        "    else:\n",
        "      # Save some adv examples for visualization later\n",
        "      if len(adv_examples) < 5:\n",
        "        adv_ex = perturbed_data.squeeze().detach().cpu().numpy()\n",
        "        adv_examples.append( (init_pred.item(), final_pred.item(), adv_ex) )\n",
        "\n",
        "  # Calculate final accuracy for this epsilon\n",
        "  final_acc = correct / float(len(test_loader))\n",
        "  print(\"Epsilon: {}\\tTest Accuracy = {} / {} = {}\".format(epsilon, correct, len(test_loader), final_acc))\n",
        "\n",
        "  # Return the accuracy and adversarial examples\n",
        "  return final_acc, adv_examples"
      ],
      "execution_count": 0,
      "outputs": []
    },
    {
      "cell_type": "code",
      "metadata": {
        "id": "f16EFF0Sct_R",
        "colab_type": "code",
        "colab": {}
      },
      "source": [
        "def plot_examples(epsilons, examples):\n",
        "  cnt = 0\n",
        "  plt.figure(figsize=(8,10))\n",
        "  for i in range(len(epsilons)):\n",
        "    for j in range(len(examples[i])):\n",
        "      cnt += 1\n",
        "      plt.subplot(len(epsilons), len(examples[0]), cnt)\n",
        "      plt.xticks([], [])\n",
        "      plt.yticks([], [])\n",
        "      if j == 0:\n",
        "        plt.ylabel(\"Eps: {}\".format(epsilons[i]), fontsize=14)\n",
        "      orig,adv,ex = examples[i][j]\n",
        "      plt.title(\"{} -> {}\".format(orig, adv))\n",
        "      plt.imshow(ex, cmap=\"gray\")\n",
        "  plt.tight_layout()\n",
        "  plt.show()"
      ],
      "execution_count": 0,
      "outputs": []
    }
  ]
}