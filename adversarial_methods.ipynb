{
  "nbformat": 4,
  "nbformat_minor": 0,
  "metadata": {
    "colab": {
      "name": "adversarial_methods.ipynb",
      "provenance": [],
      "authorship_tag": "ABX9TyNLcWhXwlu/48tU0KIGiHra",
      "include_colab_link": true
    },
    "kernelspec": {
      "name": "python3",
      "display_name": "Python 3"
    }
  },
  "cells": [
    {
      "cell_type": "markdown",
      "metadata": {
        "id": "view-in-github",
        "colab_type": "text"
      },
      "source": [
        "<a href=\"https://colab.research.google.com/github/pabloac31/TFG/blob/master/adversarial_methods.ipynb\" target=\"_parent\"><img src=\"https://colab.research.google.com/assets/colab-badge.svg\" alt=\"Open In Colab\"/></a>"
      ]
    },
    {
      "cell_type": "code",
      "metadata": {
        "id": "SasROAnSJNFV",
        "colab_type": "code",
        "colab": {}
      },
      "source": [
        "import torch"
      ],
      "execution_count": 0,
      "outputs": []
    },
    {
      "cell_type": "code",
      "metadata": {
        "id": "aY4j_WXjdntz",
        "colab_type": "code",
        "colab": {}
      },
      "source": [
        "def fgsm(image, epsilon, data_grad):\n",
        "  # Collect the element-wise sign of the data gradient\n",
        "  sign_data_grad = data_grad.sign()\n",
        "  # Create the perturbed image by adjusting each pixel of the input image\n",
        "  perturbed_image = image + epsilon*sign_data_grad\n",
        "  # Adding clipping to maintain [0,1] range\n",
        "  perturbed_image = torch.clamp(perturbed_image, 0, 1)\n",
        "  # Return the perturbed image\n",
        "  return perturbed_image"
      ],
      "execution_count": 0,
      "outputs": []
    }
  ]
}